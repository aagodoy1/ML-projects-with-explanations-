{
 "cells": [
  {
   "cell_type": "markdown",
   "metadata": {},
   "source": [
    "# Google Play Store Project\n",
    "\n",
    "### This project ....\n"
   ]
  },
  {
   "cell_type": "markdown",
   "metadata": {},
   "source": [
    "### 1) Import the libraries we are going to need for the project"
   ]
  },
  {
   "cell_type": "code",
   "execution_count": 1,
   "metadata": {},
   "outputs": [],
   "source": [
    "import pandas as pd\n",
    "import numpy as np\n",
    "import matplotlib.pyplot as plt\n",
    "import plotly.express as px\n",
    "import seaborn as sns\n",
    "import plotly.graph_objs as go\n",
    "import numpy as np\n",
    "from sklearn.feature_selection import SelectKBest, f_regression\n",
    "from sklearn.preprocessing import LabelEncoder, PolynomialFeatures\n",
    "from sklearn.model_selection import train_test_split, RandomizedSearchCV, GridSearchCV\n",
    "from sklearn.linear_model import LinearRegression, LogisticRegression\n",
    "from sklearn.ensemble import RandomForestClassifier\n",
    "from sklearn.metrics import confusion_matrix, accuracy_score, mean_squared_error, r2_score, precision_score, recall_score, f1_score\n",
    "from scipy.stats import pearsonr\n",
    "from scipy import stats\n"
   ]
  },
  {
   "cell_type": "markdown",
   "metadata": {},
   "source": [
    "### 2) Import the information from the CSV files"
   ]
  },
  {
   "cell_type": "code",
   "execution_count": 2,
   "metadata": {},
   "outputs": [
    {
     "name": "stdout",
     "output_type": "stream",
     "text": [
      "<class 'pandas.core.frame.DataFrame'>\n",
      "RangeIndex: 10841 entries, 0 to 10840\n",
      "Data columns (total 13 columns):\n",
      " #   Column          Non-Null Count  Dtype  \n",
      "---  ------          --------------  -----  \n",
      " 0   App             10841 non-null  object \n",
      " 1   Category        10841 non-null  object \n",
      " 2   Rating          9367 non-null   float64\n",
      " 3   Reviews         10841 non-null  object \n",
      " 4   Size            10841 non-null  object \n",
      " 5   Installs        10841 non-null  object \n",
      " 6   Type            10840 non-null  object \n",
      " 7   Price           10841 non-null  object \n",
      " 8   Content Rating  10840 non-null  object \n",
      " 9   Genres          10841 non-null  object \n",
      " 10  Last Updated    10841 non-null  object \n",
      " 11  Current Ver     10833 non-null  object \n",
      " 12  Android Ver     10838 non-null  object \n",
      "dtypes: float64(1), object(12)\n",
      "memory usage: 1.1+ MB\n"
     ]
    }
   ],
   "source": [
    "df = pd.read_csv('googleplaystore.csv')\n",
    "df.info()"
   ]
  },
  {
   "cell_type": "markdown",
   "metadata": {},
   "source": [
    "As we can see, there are some missing values in the dataset, specially in the 'Rating' category. We have multiples options to deal with this situation:\n",
    "\n",
    "1) Replace the empty space with the mean (in case it is a numerical value)\n",
    "\n",
    "2) Replace the empty space with the most frequent value\n",
    "\n",
    "3) Replace the empty space with the mean of the category that it belongs to\n",
    "\n",
    "4) Just eliminate those rows."
   ]
  },
  {
   "cell_type": "code",
   "execution_count": 3,
   "metadata": {},
   "outputs": [
    {
     "name": "stdout",
     "output_type": "stream",
     "text": [
      "[ 4.1  3.9  4.7  4.5  4.3  4.4  3.8  4.2  4.6  3.2  4.   nan  4.8  4.9\n",
      "  3.6  3.7  3.3  3.4  3.5  3.1  5.   2.6  3.   1.9  2.5  2.8  2.7  1.\n",
      "  2.9  2.3  2.2  1.7  2.   1.8  2.4  1.6  2.1  1.4  1.5  1.2 19. ]\n",
      "4.4     1109\n",
      "4.3     1076\n",
      "4.5     1038\n",
      "4.2      952\n",
      "4.6      823\n",
      "4.1      708\n",
      "4.0      568\n",
      "4.7      499\n",
      "3.9      386\n",
      "3.8      303\n",
      "5.0      274\n",
      "3.7      239\n",
      "4.8      234\n",
      "3.6      174\n",
      "3.5      163\n",
      "3.4      128\n",
      "3.3      102\n",
      "4.9       87\n",
      "3.0       83\n",
      "3.1       69\n",
      "3.2       64\n",
      "2.9       45\n",
      "2.8       42\n",
      "2.7       25\n",
      "2.6       25\n",
      "2.5       21\n",
      "2.3       20\n",
      "2.4       19\n",
      "1.0       16\n",
      "2.2       14\n",
      "1.9       13\n",
      "2.0       12\n",
      "1.7        8\n",
      "1.8        8\n",
      "2.1        8\n",
      "1.6        4\n",
      "1.4        3\n",
      "1.5        3\n",
      "1.2        1\n",
      "19.0       1\n",
      "Name: Rating, dtype: int64\n"
     ]
    }
   ],
   "source": [
    "print(df['Rating'].unique())\n",
    "print(df['Rating'].value_counts())"
   ]
  },
  {
   "cell_type": "markdown",
   "metadata": {},
   "source": [
    "In the 'Rating' we found a value equal to 19, but the range should be between 1.0 and 5.0. One option is to assume that the customer wanted to write '1.9', and change it ourselves, or just eliminate that column."
   ]
  },
  {
   "cell_type": "code",
   "execution_count": 4,
   "metadata": {},
   "outputs": [
    {
     "data": {
      "text/html": [
       "<div>\n",
       "<style scoped>\n",
       "    .dataframe tbody tr th:only-of-type {\n",
       "        vertical-align: middle;\n",
       "    }\n",
       "\n",
       "    .dataframe tbody tr th {\n",
       "        vertical-align: top;\n",
       "    }\n",
       "\n",
       "    .dataframe thead th {\n",
       "        text-align: right;\n",
       "    }\n",
       "</style>\n",
       "<table border=\"1\" class=\"dataframe\">\n",
       "  <thead>\n",
       "    <tr style=\"text-align: right;\">\n",
       "      <th></th>\n",
       "      <th>App</th>\n",
       "      <th>Category</th>\n",
       "      <th>Rating</th>\n",
       "      <th>Reviews</th>\n",
       "      <th>Size</th>\n",
       "      <th>Installs</th>\n",
       "      <th>Type</th>\n",
       "      <th>Price</th>\n",
       "      <th>Content Rating</th>\n",
       "      <th>Genres</th>\n",
       "      <th>Last Updated</th>\n",
       "      <th>Current Ver</th>\n",
       "      <th>Android Ver</th>\n",
       "    </tr>\n",
       "  </thead>\n",
       "  <tbody>\n",
       "    <tr>\n",
       "      <th>10472</th>\n",
       "      <td>Life Made WI-Fi Touchscreen Photo Frame</td>\n",
       "      <td>1.9</td>\n",
       "      <td>19.0</td>\n",
       "      <td>3.0M</td>\n",
       "      <td>1,000+</td>\n",
       "      <td>Free</td>\n",
       "      <td>0</td>\n",
       "      <td>Everyone</td>\n",
       "      <td>NaN</td>\n",
       "      <td>February 11, 2018</td>\n",
       "      <td>1.0.19</td>\n",
       "      <td>4.0 and up</td>\n",
       "      <td>NaN</td>\n",
       "    </tr>\n",
       "  </tbody>\n",
       "</table>\n",
       "</div>"
      ],
      "text/plain": [
       "                                           App Category  Rating Reviews  \\\n",
       "10472  Life Made WI-Fi Touchscreen Photo Frame      1.9    19.0    3.0M   \n",
       "\n",
       "         Size Installs Type     Price Content Rating             Genres  \\\n",
       "10472  1,000+     Free    0  Everyone            NaN  February 11, 2018   \n",
       "\n",
       "      Last Updated Current Ver Android Ver  \n",
       "10472       1.0.19  4.0 and up         NaN  "
      ]
     },
     "execution_count": 4,
     "metadata": {},
     "output_type": "execute_result"
    }
   ],
   "source": [
    "df[df['Rating'] == 19]"
   ]
  },
  {
   "cell_type": "markdown",
   "metadata": {},
   "source": [
    "We can see that what happened is that the data is not in the right possition, it should be one space to the right."
   ]
  },
  {
   "cell_type": "code",
   "execution_count": 5,
   "metadata": {},
   "outputs": [
    {
     "data": {
      "text/plain": [
       "App               Life Made WI-Fi Touchscreen Photo Frame\n",
       "Category                                              1.9\n",
       "Rating                                               19.0\n",
       "Reviews                                              3.0M\n",
       "Size                                               1,000+\n",
       "Installs                                             Free\n",
       "Type                                                    0\n",
       "Price                                            Everyone\n",
       "Content Rating                                        NaN\n",
       "Genres                                  February 11, 2018\n",
       "Last Updated                                       1.0.19\n",
       "Current Ver                                    4.0 and up\n",
       "Android Ver                                           NaN\n",
       "Name: 10472, dtype: object"
      ]
     },
     "execution_count": 5,
     "metadata": {},
     "output_type": "execute_result"
    }
   ],
   "source": [
    "df.iloc[10472,:]"
   ]
  },
  {
   "cell_type": "code",
   "execution_count": 6,
   "metadata": {},
   "outputs": [
    {
     "data": {
      "text/plain": [
       "App               Life Made WI-Fi Touchscreen Photo Frame\n",
       "Category                                             None\n",
       "Rating                                                1.9\n",
       "Reviews                                              19.0\n",
       "Size                                                 3.0M\n",
       "Installs                                           1,000+\n",
       "Type                                                 Free\n",
       "Price                                                   0\n",
       "Content Rating                                   Everyone\n",
       "Genres                                                NaN\n",
       "Last Updated                            February 11, 2018\n",
       "Current Ver                                        1.0.19\n",
       "Android Ver                                    4.0 and up\n",
       "Name: 10472, dtype: object"
      ]
     },
     "execution_count": 6,
     "metadata": {},
     "output_type": "execute_result"
    }
   ],
   "source": [
    "df.iloc[10472,1:]=df.iloc[10472,1:].shift(1)\n",
    "df.iloc[10472,:]"
   ]
  },
  {
   "cell_type": "markdown",
   "metadata": {},
   "source": [
    "Since we don't know the category, we are leaving that plae as a missing value.\n",
    "On the other hand, the dtype of the category 'Last Updated' is object, when it should be a date. In consecuence, we have to change it."
   ]
  },
  {
   "cell_type": "code",
   "execution_count": 7,
   "metadata": {},
   "outputs": [],
   "source": [
    "df['Last Updated'] = pd.to_datetime(df['Last Updated'])"
   ]
  },
  {
   "cell_type": "markdown",
   "metadata": {},
   "source": [
    "### 3) Data Analysis"
   ]
  },
  {
   "cell_type": "markdown",
   "metadata": {},
   "source": [
    "We have multiples categories to analyze, however, a good place to start is with the category 'Type' since it is a binary, paid of not paid. We know that we have 1 missing value so in this case we are just going to ignore that column."
   ]
  },
  {
   "cell_type": "code",
   "execution_count": 8,
   "metadata": {},
   "outputs": [],
   "source": [
    "df.dropna(subset = 'Type', inplace = True)"
   ]
  },
  {
   "cell_type": "code",
   "execution_count": 9,
   "metadata": {},
   "outputs": [
    {
     "name": "stdout",
     "output_type": "stream",
     "text": [
      "<class 'pandas.core.series.Series'>\n",
      "Int64Index: 10840 entries, 0 to 10840\n",
      "Series name: Type\n",
      "Non-Null Count  Dtype \n",
      "--------------  ----- \n",
      "10840 non-null  object\n",
      "dtypes: object(1)\n",
      "memory usage: 169.4+ KB\n"
     ]
    }
   ],
   "source": [
    "df['Type'].info()"
   ]
  },
  {
   "cell_type": "markdown",
   "metadata": {},
   "source": [
    "Now we only have 10.840 rows in the dataframe, and 0 null values for the column 'Type'"
   ]
  },
  {
   "cell_type": "code",
   "execution_count": 10,
   "metadata": {},
   "outputs": [
    {
     "data": {
      "image/png": "[encoded data removed]",
      "text/plain": [
       "<Figure size 400x300 with 1 Axes>"
      ]
     },
     "metadata": {},
     "output_type": "display_data"
    }
   ],
   "source": [
    "type_counts = df['Type'].value_counts()\n",
    "\n",
    "plt.figure(figsize=(4, 3)) \n",
    "plt.pie(type_counts, labels = type_counts.index, autopct='%1.1f%%', startangle=140)\n",
    "plt.title('Paid vs not Free apps')\n",
    "\n",
    "plt.show()"
   ]
  },
  {
   "cell_type": "markdown",
   "metadata": {},
   "source": [
    "Since we want to see the behaviour of the customers, we need to condense the different dates into just months and years. To do that, we are adding 2 extra columns."
   ]
  },
  {
   "cell_type": "code",
   "execution_count": 11,
   "metadata": {},
   "outputs": [],
   "source": [
    "df['Year_Last_Updated'] = df['Last Updated'].dt.year\n",
    "df['Month_Last_Updated'] = df['Last Updated'].dt.month"
   ]
  },
  {
   "cell_type": "code",
   "execution_count": 12,
   "metadata": {},
   "outputs": [
    {
     "data": {
      "text/html": [
       "<div>\n",
       "<style scoped>\n",
       "    .dataframe tbody tr th:only-of-type {\n",
       "        vertical-align: middle;\n",
       "    }\n",
       "\n",
       "    .dataframe tbody tr th {\n",
       "        vertical-align: top;\n",
       "    }\n",
       "\n",
       "    .dataframe thead th {\n",
       "        text-align: right;\n",
       "    }\n",
       "</style>\n",
       "<table border=\"1\" class=\"dataframe\">\n",
       "  <thead>\n",
       "    <tr style=\"text-align: right;\">\n",
       "      <th></th>\n",
       "      <th>App</th>\n",
       "      <th>Category</th>\n",
       "      <th>Rating</th>\n",
       "      <th>Reviews</th>\n",
       "      <th>Size</th>\n",
       "      <th>Installs</th>\n",
       "      <th>Type</th>\n",
       "      <th>Price</th>\n",
       "      <th>Content Rating</th>\n",
       "      <th>Genres</th>\n",
       "      <th>Last Updated</th>\n",
       "      <th>Current Ver</th>\n",
       "      <th>Android Ver</th>\n",
       "      <th>Year_Last_Updated</th>\n",
       "      <th>Month_Last_Updated</th>\n",
       "    </tr>\n",
       "  </thead>\n",
       "  <tbody>\n",
       "    <tr>\n",
       "      <th>0</th>\n",
       "      <td>Photo Editor &amp; Candy Camera &amp; Grid &amp; ScrapBook</td>\n",
       "      <td>ART_AND_DESIGN</td>\n",
       "      <td>4.1</td>\n",
       "      <td>159</td>\n",
       "      <td>19M</td>\n",
       "      <td>10,000+</td>\n",
       "      <td>Free</td>\n",
       "      <td>0</td>\n",
       "      <td>Everyone</td>\n",
       "      <td>Art &amp; Design</td>\n",
       "      <td>2018-01-07</td>\n",
       "      <td>1.0.0</td>\n",
       "      <td>4.0.3 and up</td>\n",
       "      <td>2018</td>\n",
       "      <td>1</td>\n",
       "    </tr>\n",
       "    <tr>\n",
       "      <th>1</th>\n",
       "      <td>Coloring book moana</td>\n",
       "      <td>ART_AND_DESIGN</td>\n",
       "      <td>3.9</td>\n",
       "      <td>967</td>\n",
       "      <td>14M</td>\n",
       "      <td>500,000+</td>\n",
       "      <td>Free</td>\n",
       "      <td>0</td>\n",
       "      <td>Everyone</td>\n",
       "      <td>Art &amp; Design;Pretend Play</td>\n",
       "      <td>2018-01-15</td>\n",
       "      <td>2.0.0</td>\n",
       "      <td>4.0.3 and up</td>\n",
       "      <td>2018</td>\n",
       "      <td>1</td>\n",
       "    </tr>\n",
       "    <tr>\n",
       "      <th>2</th>\n",
       "      <td>U Launcher Lite – FREE Live Cool Themes, Hide ...</td>\n",
       "      <td>ART_AND_DESIGN</td>\n",
       "      <td>4.7</td>\n",
       "      <td>87510</td>\n",
       "      <td>8.7M</td>\n",
       "      <td>5,000,000+</td>\n",
       "      <td>Free</td>\n",
       "      <td>0</td>\n",
       "      <td>Everyone</td>\n",
       "      <td>Art &amp; Design</td>\n",
       "      <td>2018-08-01</td>\n",
       "      <td>1.2.4</td>\n",
       "      <td>4.0.3 and up</td>\n",
       "      <td>2018</td>\n",
       "      <td>8</td>\n",
       "    </tr>\n",
       "    <tr>\n",
       "      <th>3</th>\n",
       "      <td>Sketch - Draw &amp; Paint</td>\n",
       "      <td>ART_AND_DESIGN</td>\n",
       "      <td>4.5</td>\n",
       "      <td>215644</td>\n",
       "      <td>25M</td>\n",
       "      <td>50,000,000+</td>\n",
       "      <td>Free</td>\n",
       "      <td>0</td>\n",
       "      <td>Teen</td>\n",
       "      <td>Art &amp; Design</td>\n",
       "      <td>2018-06-08</td>\n",
       "      <td>Varies with device</td>\n",
       "      <td>4.2 and up</td>\n",
       "      <td>2018</td>\n",
       "      <td>6</td>\n",
       "    </tr>\n",
       "    <tr>\n",
       "      <th>4</th>\n",
       "      <td>Pixel Draw - Number Art Coloring Book</td>\n",
       "      <td>ART_AND_DESIGN</td>\n",
       "      <td>4.3</td>\n",
       "      <td>967</td>\n",
       "      <td>2.8M</td>\n",
       "      <td>100,000+</td>\n",
       "      <td>Free</td>\n",
       "      <td>0</td>\n",
       "      <td>Everyone</td>\n",
       "      <td>Art &amp; Design;Creativity</td>\n",
       "      <td>2018-06-20</td>\n",
       "      <td>1.1</td>\n",
       "      <td>4.4 and up</td>\n",
       "      <td>2018</td>\n",
       "      <td>6</td>\n",
       "    </tr>\n",
       "  </tbody>\n",
       "</table>\n",
       "</div>"
      ],
      "text/plain": [
       "                                                 App        Category Rating  \\\n",
       "0     Photo Editor & Candy Camera & Grid & ScrapBook  ART_AND_DESIGN    4.1   \n",
       "1                                Coloring book moana  ART_AND_DESIGN    3.9   \n",
       "2  U Launcher Lite – FREE Live Cool Themes, Hide ...  ART_AND_DESIGN    4.7   \n",
       "3                              Sketch - Draw & Paint  ART_AND_DESIGN    4.5   \n",
       "4              Pixel Draw - Number Art Coloring Book  ART_AND_DESIGN    4.3   \n",
       "\n",
       "  Reviews  Size     Installs  Type Price Content Rating  \\\n",
       "0     159   19M      10,000+  Free     0       Everyone   \n",
       "1     967   14M     500,000+  Free     0       Everyone   \n",
       "2   87510  8.7M   5,000,000+  Free     0       Everyone   \n",
       "3  215644   25M  50,000,000+  Free     0           Teen   \n",
       "4     967  2.8M     100,000+  Free     0       Everyone   \n",
       "\n",
       "                      Genres Last Updated         Current Ver   Android Ver  \\\n",
       "0               Art & Design   2018-01-07               1.0.0  4.0.3 and up   \n",
       "1  Art & Design;Pretend Play   2018-01-15               2.0.0  4.0.3 and up   \n",
       "2               Art & Design   2018-08-01               1.2.4  4.0.3 and up   \n",
       "3               Art & Design   2018-06-08  Varies with device    4.2 and up   \n",
       "4    Art & Design;Creativity   2018-06-20                 1.1    4.4 and up   \n",
       "\n",
       "   Year_Last_Updated  Month_Last_Updated  \n",
       "0               2018                   1  \n",
       "1               2018                   1  \n",
       "2               2018                   8  \n",
       "3               2018                   6  \n",
       "4               2018                   6  "
      ]
     },
     "execution_count": 12,
     "metadata": {},
     "output_type": "execute_result"
    }
   ],
   "source": [
    "df.head()"
   ]
  },
  {
   "cell_type": "code",
   "execution_count": 13,
   "metadata": {},
   "outputs": [],
   "source": [
    "df_free = df[df['Type'] == 'Free']\n",
    "df_paid = df[df['Type'] == 'Paid']"
   ]
  },
  {
   "cell_type": "code",
   "execution_count": 14,
   "metadata": {},
   "outputs": [
    {
     "name": "stdout",
     "output_type": "stream",
     "text": [
      "Type               Free  Paid\n",
      "Year_Last_Updated            \n",
      "2018               7004   345\n",
      "2017               1684   183\n",
      "2016                710    94\n",
      "2015                377    82\n",
      "2014                150    59\n",
      "2013                 81    29\n",
      "2012                 21     5\n",
      "2011                 12     3\n",
      "2010                  1     0\n"
     ]
    }
   ],
   "source": [
    "\n",
    "table_year = pd.crosstab(df['Year_Last_Updated'], df['Type'])\n",
    "table_sorted = table_year.sort_index(ascending=False)\n",
    "print(table_sorted)"
   ]
  },
  {
   "cell_type": "code",
   "execution_count": 15,
   "metadata": {},
   "outputs": [
    {
     "data": {
      "text/plain": [
       "<Figure size 1000x600 with 0 Axes>"
      ]
     },
     "metadata": {},
     "output_type": "display_data"
    },
    {
     "data": {
      "image/png": "[encoded data removed]",
      "text/plain": [
       "<Figure size 640x480 with 1 Axes>"
      ]
     },
     "metadata": {},
     "output_type": "display_data"
    }
   ],
   "source": [
    "plt.figure(figsize=(10, 6)) \n",
    "table_sorted.plot(kind='line', marker='o')\n",
    "plt.title('Historic Updates')\n",
    "plt.xlabel('Year_Last_Updated')\n",
    "plt.ylabel('Amount')\n",
    "plt.legend(title='Type', bbox_to_anchor=(1.05, 1), loc='upper left')  # Ubicación de la leyenda fuera del gráfico\n",
    "plt.tight_layout()  # Ajustar el diseño para que la leyenda no se corte\n",
    "plt.show()"
   ]
  },
  {
   "cell_type": "code",
   "execution_count": 16,
   "metadata": {},
   "outputs": [
    {
     "name": "stdout",
     "output_type": "stream",
     "text": [
      "Type                Free  Paid\n",
      "Month_Last_Updated            \n",
      "1                    444    47\n",
      "2                    489    45\n",
      "3                    595    72\n",
      "4                    553    63\n",
      "5                    897    81\n",
      "6                   1179    93\n",
      "7                   3022   141\n",
      "8                   1511    83\n",
      "9                    283    31\n",
      "10                   357    41\n",
      "11                   347    40\n",
      "12                   363    63\n"
     ]
    }
   ],
   "source": [
    "table_month = pd.crosstab(df['Month_Last_Updated'], df['Type'])\n",
    "table_sorted_2 = table_month.sort_index(ascending=True)\n",
    "print(table_sorted_2)"
   ]
  },
  {
   "cell_type": "code",
   "execution_count": 17,
   "metadata": {},
   "outputs": [
    {
     "data": {
      "text/plain": [
       "<Figure size 1000x600 with 0 Axes>"
      ]
     },
     "metadata": {},
     "output_type": "display_data"
    },
    {
     "data": {
      "image/png": "[encoded data removed]",
      "text/plain": [
       "<Figure size 640x480 with 1 Axes>"
      ]
     },
     "metadata": {},
     "output_type": "display_data"
    }
   ],
   "source": [
    "plt.figure(figsize=(10, 6)) \n",
    "table_sorted_2.plot(kind='bar', stacked= True)\n",
    "plt.title('Historic Updates')\n",
    "plt.xlabel('Month_Last_Updated')\n",
    "plt.ylabel('Amount')\n",
    "plt.legend(title='Type', bbox_to_anchor=(1.05, 1), loc='upper left')\n",
    "plt.tight_layout()\n",
    "plt.show()"
   ]
  },
  {
   "cell_type": "markdown",
   "metadata": {},
   "source": [
    "Now let's see only for Paid apps, since it is difficult to see in this graphic"
   ]
  },
  {
   "cell_type": "code",
   "execution_count": 18,
   "metadata": {},
   "outputs": [
    {
     "name": "stdout",
     "output_type": "stream",
     "text": [
      "Type                Paid\n",
      "Month_Last_Updated      \n",
      "1                     47\n",
      "2                     45\n",
      "3                     72\n",
      "4                     63\n",
      "5                     81\n",
      "6                     93\n",
      "7                    141\n",
      "8                     83\n",
      "9                     31\n",
      "10                    41\n",
      "11                    40\n",
      "12                    63\n"
     ]
    }
   ],
   "source": [
    "table_month_paid = pd.crosstab(df_paid['Month_Last_Updated'], df_paid['Type'])\n",
    "table_sorted_3 = table_month_paid.sort_index(ascending=True)\n",
    "print(table_sorted_3)"
   ]
  },
  {
   "cell_type": "code",
   "execution_count": 19,
   "metadata": {},
   "outputs": [
    {
     "data": {
      "text/plain": [
       "<Figure size 1000x600 with 0 Axes>"
      ]
     },
     "metadata": {},
     "output_type": "display_data"
    },
    {
     "data": {
      "image/png": "[encoded data removed]",
      "text/plain": [
       "<Figure size 640x480 with 1 Axes>"
      ]
     },
     "metadata": {},
     "output_type": "display_data"
    }
   ],
   "source": [
    "plt.figure(figsize=(10, 6)) \n",
    "table_sorted_3.plot(kind='bar', stacked= True)\n",
    "plt.title('Historic Updates')\n",
    "plt.xlabel('Month_Last_Updated')\n",
    "plt.ylabel('Amount')\n",
    "plt.legend(title='Type', bbox_to_anchor=(1.05, 1), loc='upper left')  # Ubicación de la leyenda fuera del gráfico\n",
    "plt.tight_layout()  # Ajustar el diseño para que la leyenda no se corte\n",
    "plt.show()"
   ]
  },
  {
   "cell_type": "markdown",
   "metadata": {},
   "source": [
    "Now we are going to check what kind of public are the apps aming for, it means the type of contect."
   ]
  },
  {
   "cell_type": "code",
   "execution_count": 20,
   "metadata": {},
   "outputs": [
    {
     "name": "stdout",
     "output_type": "stream",
     "text": [
      "<class 'pandas.core.series.Series'>\n",
      "Int64Index: 10840 entries, 0 to 10840\n",
      "Series name: Content Rating\n",
      "Non-Null Count  Dtype \n",
      "--------------  ----- \n",
      "10840 non-null  object\n",
      "dtypes: object(1)\n",
      "memory usage: 169.4+ KB\n",
      "None\n"
     ]
    }
   ],
   "source": [
    "print(df['Content Rating'].info())"
   ]
  },
  {
   "cell_type": "markdown",
   "metadata": {},
   "source": [
    "There are no null objects so we can continue with our analysis."
   ]
  },
  {
   "cell_type": "code",
   "execution_count": 21,
   "metadata": {},
   "outputs": [
    {
     "name": "stdout",
     "output_type": "stream",
     "text": [
      "           Content  Total_Count\n",
      "0         Everyone         8715\n",
      "1             Teen         1208\n",
      "2       Mature 17+          499\n",
      "3     Everyone 10+          413\n",
      "4  Adults only 18+            3\n",
      "5          Unrated            2\n"
     ]
    }
   ],
   "source": [
    "content = df['Content Rating'].value_counts().reset_index()\n",
    "content.columns = ['Content', 'Total_Count']\n",
    "print(content)"
   ]
  },
  {
   "cell_type": "markdown",
   "metadata": {},
   "source": [
    "As we can see, most of the apps have a type of content that can be consumed by everyone. Now let's divide them into different types of payment."
   ]
  },
  {
   "cell_type": "code",
   "execution_count": 22,
   "metadata": {},
   "outputs": [
    {
     "name": "stdout",
     "output_type": "stream",
     "text": [
      "Type             Free  Paid\n",
      "Content Rating             \n",
      "Everyone         8020   695\n",
      "Teen             1156    52\n",
      "Mature 17+        479    20\n",
      "Everyone 10+      380    33\n",
      "Adults only 18+     3     0\n",
      "Unrated             2     0\n"
     ]
    }
   ],
   "source": [
    "table_content_payment = pd.crosstab(df['Content Rating'], df['Type']).sort_values(by = ['Free', 'Paid'], ascending = False)\n",
    "print(table_content_payment)"
   ]
  },
  {
   "cell_type": "markdown",
   "metadata": {},
   "source": [
    "For both types of payments, the contect for everyone is dominant.\n",
    "On the other hand, something really importat is to identify how people rate the different apps."
   ]
  },
  {
   "cell_type": "code",
   "execution_count": 23,
   "metadata": {},
   "outputs": [
    {
     "name": "stdout",
     "output_type": "stream",
     "text": [
      "<class 'pandas.core.series.Series'>\n",
      "Int64Index: 10840 entries, 0 to 10840\n",
      "Series name: Rating\n",
      "Non-Null Count  Dtype \n",
      "--------------  ----- \n",
      "9367 non-null   object\n",
      "dtypes: object(1)\n",
      "memory usage: 169.4+ KB\n",
      "None\n"
     ]
    }
   ],
   "source": [
    "print(df['Rating'].info())"
   ]
  },
  {
   "cell_type": "markdown",
   "metadata": {},
   "source": [
    "We have a lot of null values, so we are creating a copy of the original dataframe we are gong to eliminate every null value. We create a copy instead of modifing the original df because those same rows contain a lot of important information that can helps us in the future."
   ]
  },
  {
   "cell_type": "code",
   "execution_count": 24,
   "metadata": {},
   "outputs": [
    {
     "name": "stdout",
     "output_type": "stream",
     "text": [
      "<class 'pandas.core.frame.DataFrame'>\n",
      "Int64Index: 9367 entries, 0 to 10840\n",
      "Data columns (total 15 columns):\n",
      " #   Column              Non-Null Count  Dtype         \n",
      "---  ------              --------------  -----         \n",
      " 0   App                 9367 non-null   object        \n",
      " 1   Category            9366 non-null   object        \n",
      " 2   Rating              9367 non-null   object        \n",
      " 3   Reviews             9367 non-null   object        \n",
      " 4   Size                9367 non-null   object        \n",
      " 5   Installs            9367 non-null   object        \n",
      " 6   Type                9367 non-null   object        \n",
      " 7   Price               9367 non-null   object        \n",
      " 8   Content Rating      9367 non-null   object        \n",
      " 9   Genres              9366 non-null   object        \n",
      " 10  Last Updated        9367 non-null   datetime64[ns]\n",
      " 11  Current Ver         9363 non-null   object        \n",
      " 12  Android Ver         9365 non-null   object        \n",
      " 13  Year_Last_Updated   9367 non-null   int64         \n",
      " 14  Month_Last_Updated  9367 non-null   int64         \n",
      "dtypes: datetime64[ns](1), int64(2), object(12)\n",
      "memory usage: 1.1+ MB\n",
      "None\n"
     ]
    }
   ],
   "source": [
    "df_rating = df.dropna(subset = 'Rating', inplace = False)\n",
    "print(df_rating.info())"
   ]
  },
  {
   "cell_type": "code",
   "execution_count": 25,
   "metadata": {},
   "outputs": [
    {
     "name": "stdout",
     "output_type": "stream",
     "text": [
      "<class 'pandas.core.frame.DataFrame'>\n",
      "RangeIndex: 9367 entries, 0 to 9366\n",
      "Data columns (total 15 columns):\n",
      " #   Column              Non-Null Count  Dtype         \n",
      "---  ------              --------------  -----         \n",
      " 0   App                 9367 non-null   object        \n",
      " 1   Category            9366 non-null   object        \n",
      " 2   Rating              9367 non-null   object        \n",
      " 3   Reviews             9367 non-null   object        \n",
      " 4   Size                9367 non-null   object        \n",
      " 5   Installs            9367 non-null   object        \n",
      " 6   Type                9367 non-null   object        \n",
      " 7   Price               9367 non-null   object        \n",
      " 8   Content Rating      9367 non-null   object        \n",
      " 9   Genres              9366 non-null   object        \n",
      " 10  Last Updated        9367 non-null   datetime64[ns]\n",
      " 11  Current Ver         9363 non-null   object        \n",
      " 12  Android Ver         9365 non-null   object        \n",
      " 13  Year_Last_Updated   9367 non-null   int64         \n",
      " 14  Month_Last_Updated  9367 non-null   int64         \n",
      "dtypes: datetime64[ns](1), int64(2), object(12)\n",
      "memory usage: 1.1+ MB\n",
      "None\n"
     ]
    }
   ],
   "source": [
    "df_rating.reset_index(drop = True, inplace = True)\n",
    "print(df_rating.info())"
   ]
  },
  {
   "cell_type": "code",
   "execution_count": 26,
   "metadata": {},
   "outputs": [
    {
     "name": "stdout",
     "output_type": "stream",
     "text": [
      "Type    Free  Paid\n",
      "Rating            \n",
      "1.0       14     2\n",
      "1.2        1     0\n",
      "1.4        3     0\n",
      "1.5        3     0\n",
      "1.6        4     0\n",
      "1.7        7     1\n",
      "1.8        7     1\n",
      "1.9       14     0\n",
      "2.0       11     1\n",
      "2.1        8     0\n",
      "2.2       14     0\n",
      "2.3       18     2\n",
      "2.4       17     2\n",
      "2.5       20     1\n",
      "2.6       23     2\n",
      "2.7       23     2\n",
      "2.8       39     3\n",
      "2.9       40     5\n",
      "3.0       75     8\n",
      "3.1       65     4\n",
      "3.2       62     2\n",
      "3.3       97     5\n",
      "3.4      117    11\n",
      "3.5      152    11\n",
      "3.6      164    10\n",
      "3.7      228    11\n",
      "3.8      282    21\n",
      "3.9      370    16\n",
      "4.0      546    22\n",
      "4.1      676    32\n",
      "4.2      890    62\n",
      "4.3     1025    51\n",
      "4.4     1031    78\n",
      "4.5      965    73\n",
      "4.6      741    82\n",
      "4.7      446    53\n",
      "4.8      195    39\n",
      "4.9       81     6\n",
      "5.0      246    28\n"
     ]
    },
    {
     "name": "stderr",
     "output_type": "stream",
     "text": [
      "C:\\Users\\user\\AppData\\Local\\Temp\\ipykernel_20900\\2268151734.py:1: SettingWithCopyWarning: \n",
      "A value is trying to be set on a copy of a slice from a DataFrame.\n",
      "Try using .loc[row_indexer,col_indexer] = value instead\n",
      "\n",
      "See the caveats in the documentation: https://pandas.pydata.org/pandas-docs/stable/user_guide/indexing.html#returning-a-view-versus-a-copy\n",
      "  df_rating['Rating'] = df_rating['Rating'].astype(float)\n"
     ]
    }
   ],
   "source": [
    "df_rating['Rating'] = df_rating['Rating'].astype(float)\n",
    "table_rating_payment = pd.crosstab(df_rating['Rating'], df_rating['Type'])\n",
    "print(table_rating_payment)"
   ]
  },
  {
   "cell_type": "code",
   "execution_count": 27,
   "metadata": {},
   "outputs": [
    {
     "data": {
      "image/png": "[encoded data removed]",
      "text/plain": [
       "<Figure size 1000x600 with 1 Axes>"
      ]
     },
     "metadata": {},
     "output_type": "display_data"
    }
   ],
   "source": [
    "frequency_free = table_rating_payment['Free']\n",
    "frequency_paid = table_rating_payment['Paid']\n",
    "\n",
    "plt.figure(figsize=(10, 6))\n",
    "\n",
    "x_values = table_rating_payment.index\n",
    "x_labels = [str(value) if value % 0.5 == 0 else '' for value in x_values]\n",
    "\n",
    "plt.bar(x_values - 0, frequency_free, width=0.1, label='Free', color='skyblue')\n",
    "plt.bar(x_values - 0, frequency_paid, width=0.1, label='Paid', color='orange')\n",
    "\n",
    "plt.title('Histograma de Frecuencia por Rating y Type')\n",
    "plt.xlabel('Rating')\n",
    "plt.ylabel('Frecuencia')\n",
    "plt.xticks(x_values, x_labels, rotation=45) \n",
    "plt.legend()\n",
    "plt.tight_layout()\n",
    "plt.show()"
   ]
  },
  {
   "cell_type": "markdown",
   "metadata": {},
   "source": [
    "So far we can see that most of the apps that are dowloaded are rated around 4.3. Let's go with the other characteristics, this part is going to be a little bit faster."
   ]
  },
  {
   "cell_type": "code",
   "execution_count": 28,
   "metadata": {},
   "outputs": [
    {
     "name": "stdout",
     "output_type": "stream",
     "text": [
      "Type                 Free  Paid\n",
      "Category                       \n",
      "FAMILY               1780   191\n",
      "GAME                 1061    83\n",
      "TOOLS                 765    78\n",
      "BUSINESS              446    14\n",
      "PRODUCTIVITY          396    28\n",
      "LIFESTYLE             363    19\n",
      "COMMUNICATION         360    27\n",
      "SPORTS                360    24\n",
      "MEDICAL               354   109\n",
      "FINANCE               349    17\n",
      "HEALTH_AND_FITNESS    325    16\n",
      "PHOTOGRAPHY           313    22\n",
      "PERSONALIZATION       309    83\n",
      "SOCIAL                292     3\n",
      "NEWS_AND_MAGAZINES    281     2\n",
      "SHOPPING              258     2\n",
      "TRAVEL_AND_LOCAL      246    12\n",
      "DATING                227     7\n",
      "BOOKS_AND_REFERENCE   203    28\n",
      "VIDEO_PLAYERS         171     4\n",
      "EDUCATION             152     4\n",
      "ENTERTAINMENT         147     2\n",
      "MAPS_AND_NAVIGATION   132     5\n",
      "FOOD_AND_DRINK        125     2\n",
      "HOUSE_AND_HOME         88     0\n",
      "LIBRARIES_AND_DEMO     84     1\n",
      "AUTO_AND_VEHICLES      82     3\n",
      "WEATHER                74     8\n",
      "EVENTS                 63     1\n",
      "ART_AND_DESIGN         62     3\n",
      "COMICS                 60     0\n",
      "PARENTING              58     2\n",
      "BEAUTY                 53     0\n"
     ]
    }
   ],
   "source": [
    "table_category_payment = pd.crosstab(df['Category'], df['Type']).sort_values(by = ['Free', 'Paid'], ascending = False)\n",
    "print(table_category_payment)"
   ]
  },
  {
   "cell_type": "code",
   "execution_count": 29,
   "metadata": {},
   "outputs": [
    {
     "name": "stdout",
     "output_type": "stream",
     "text": [
      "Type                Free  Paid\n",
      "Android Ver                   \n",
      "Varies with device  1295    66\n",
      "8.0 and up             5     1\n",
      "7.1 and up             3     0\n",
      "7.0 and up            29    13\n",
      "7.0 - 7.1.1            1     0\n",
      "6.0 and up            55     5\n",
      "5.1 and up            21     3\n",
      "5.0 and up           569    32\n",
      "5.0 - 8.0              2     0\n",
      "5.0 - 7.1.1            1     0\n",
      "5.0 - 6.0              1     0\n",
      "4.4W and up            9     3\n",
      "4.4 and up           939    41\n",
      "4.3 and up           229    14\n",
      "4.2 and up           373    21\n",
      "4.1 and up          2320   131\n",
      "4.1 - 7.1.1            1     0\n",
      "4.0.3 and up        1412    89\n",
      "4.0.3 - 7.1.1          2     0\n",
      "4.0 and up          1273   103\n",
      "3.2 and up            28     8\n",
      "3.1 and up             9     1\n",
      "3.0 and up           207    34\n",
      "2.3.3 and up         251    30\n",
      "2.3 and up           580    72\n",
      "2.2 and up           195    49\n",
      "2.2 - 7.1.1            1     0\n",
      "2.1 and up           107    27\n",
      "2.0.1 and up           2     5\n",
      "2.0 and up            26     6\n",
      "1.6 and up            77    39\n",
      "1.5 and up            14     6\n",
      "1.0 and up             2     0\n"
     ]
    }
   ],
   "source": [
    "table_version_payment = pd.crosstab(df['Android Ver'], df['Type']).sort_values(by = ['Android Ver'], ascending = False)\n",
    "#table_version_payment = pd.crosstab(df['Android Ver'], df['Type']).sort_values(by = ['Free', 'Paid'], ascending = False)\n",
    "\n",
    "print(table_version_payment)"
   ]
  },
  {
   "cell_type": "code",
   "execution_count": 30,
   "metadata": {},
   "outputs": [
    {
     "name": "stdout",
     "output_type": "stream",
     "text": [
      "Type            Free  Paid\n",
      "Installs                  \n",
      "1,000,000+      1555    24\n",
      "10,000,000+     1249     3\n",
      "100,000+        1079    90\n",
      "10,000+          925   129\n",
      "1,000+           759   149\n",
      "5,000,000+       752     0\n",
      "100+             623    96\n",
      "500,000+         527    12\n",
      "50,000+          436    43\n",
      "5,000+           410    67\n",
      "100,000,000+     409     0\n",
      "10+              316    70\n",
      "500+             290    40\n",
      "50,000,000+      289     0\n",
      "50+              171    34\n",
      "500,000,000+      72     0\n",
      "5+                70    12\n",
      "1,000,000,000+    58     0\n",
      "1+                46    21\n",
      "0+                 4    10\n"
     ]
    }
   ],
   "source": [
    "table_installs_payment = pd.crosstab(df['Installs'], df['Type']).sort_values(by = ['Free', 'Paid'], ascending = False)\n",
    "\n",
    "print(table_installs_payment)"
   ]
  },
  {
   "cell_type": "code",
   "execution_count": 31,
   "metadata": {},
   "outputs": [
    {
     "name": "stdout",
     "output_type": "stream",
     "text": [
      "<class 'pandas.core.series.Series'>\n",
      "Int64Index: 10840 entries, 0 to 10840\n",
      "Series name: Installs\n",
      "Non-Null Count  Dtype \n",
      "--------------  ----- \n",
      "10840 non-null  object\n",
      "dtypes: object(1)\n",
      "memory usage: 169.4+ KB\n",
      "None\n"
     ]
    }
   ],
   "source": [
    "print(df['Installs'].info())"
   ]
  },
  {
   "cell_type": "code",
   "execution_count": 32,
   "metadata": {},
   "outputs": [
    {
     "name": "stderr",
     "output_type": "stream",
     "text": [
      "C:\\Users\\user\\AppData\\Local\\Temp\\ipykernel_20900\\3550140803.py:1: FutureWarning: The default value of regex will change from True to False in a future version. In addition, single character regular expressions will *not* be treated as literal strings when regex=True.\n",
      "  df['Installs'] = df['Installs'].str.replace('+','')\n"
     ]
    }
   ],
   "source": [
    "df['Installs'] = df['Installs'].str.replace('+','')\n",
    "df['Installs'] = df['Installs'].str.replace(',','').astype(int)"
   ]
  },
  {
   "cell_type": "code",
   "execution_count": 33,
   "metadata": {},
   "outputs": [
    {
     "name": "stdout",
     "output_type": "stream",
     "text": [
      "<class 'pandas.core.series.Series'>\n",
      "Int64Index: 10840 entries, 0 to 10840\n",
      "Series name: Installs\n",
      "Non-Null Count  Dtype\n",
      "--------------  -----\n",
      "10840 non-null  int32\n",
      "dtypes: int32(1)\n",
      "memory usage: 127.0 KB\n",
      "None\n",
      "[     10000     500000    5000000   50000000     100000      50000\n",
      "    1000000   10000000       5000  100000000 1000000000       1000\n",
      "  500000000         50        100        500         10          1\n",
      "          5          0]\n"
     ]
    }
   ],
   "source": [
    "print(df['Installs'].info())\n",
    "print(df['Installs'].unique())"
   ]
  },
  {
   "cell_type": "markdown",
   "metadata": {},
   "source": [
    "The price is an important characteristic that we have to pay attention to. First we need to check for null values, and then change the type from 'str' to 'float'"
   ]
  },
  {
   "cell_type": "code",
   "execution_count": 34,
   "metadata": {},
   "outputs": [
    {
     "name": "stdout",
     "output_type": "stream",
     "text": [
      "<class 'pandas.core.series.Series'>\n",
      "Int64Index: 10840 entries, 0 to 10840\n",
      "Series name: Price\n",
      "Non-Null Count  Dtype \n",
      "--------------  ----- \n",
      "10840 non-null  object\n",
      "dtypes: object(1)\n",
      "memory usage: 169.4+ KB\n",
      "None\n",
      "['0' '$4.99' '$3.99' '$6.99' '$1.49' '$2.99' '$7.99' '$5.99' '$3.49'\n",
      " '$1.99' '$9.99' '$7.49' '$0.99' '$9.00' '$5.49' '$10.00' '$24.99'\n",
      " '$11.99' '$79.99' '$16.99' '$14.99' '$1.00' '$29.99' '$12.99' '$2.49'\n",
      " '$10.99' '$1.50' '$19.99' '$15.99' '$33.99' '$74.99' '$39.99' '$3.95'\n",
      " '$4.49' '$1.70' '$8.99' '$2.00' '$3.88' '$25.99' '$399.99' '$17.99'\n",
      " '$400.00' '$3.02' '$1.76' '$4.84' '$4.77' '$1.61' '$2.50' '$1.59' '$6.49'\n",
      " '$1.29' '$5.00' '$13.99' '$299.99' '$379.99' '$37.99' '$18.99' '$389.99'\n",
      " '$19.90' '$8.49' '$1.75' '$14.00' '$4.85' '$46.99' '$109.99' '$154.99'\n",
      " '$3.08' '$2.59' '$4.80' '$1.96' '$19.40' '$3.90' '$4.59' '$15.46' '$3.04'\n",
      " '$4.29' '$2.60' '$3.28' '$4.60' '$28.99' '$2.95' '$2.90' '$1.97'\n",
      " '$200.00' '$89.99' '$2.56' '$30.99' '$3.61' '$394.99' '$1.26' '$1.20'\n",
      " '$1.04']\n"
     ]
    }
   ],
   "source": [
    "print(df['Price'].info())\n",
    "print(df['Price'].unique())\n"
   ]
  },
  {
   "cell_type": "code",
   "execution_count": 35,
   "metadata": {},
   "outputs": [
    {
     "name": "stderr",
     "output_type": "stream",
     "text": [
      "C:\\Users\\user\\AppData\\Local\\Temp\\ipykernel_20900\\1648563860.py:1: FutureWarning: The default value of regex will change from True to False in a future version. In addition, single character regular expressions will *not* be treated as literal strings when regex=True.\n",
      "  df['Price'] = df['Price'].str.replace('$','')\n"
     ]
    }
   ],
   "source": [
    "df['Price'] = df['Price'].str.replace('$','')\n",
    "df['Price'] = df['Price'].str.replace(',','').astype(float)\n"
   ]
  },
  {
   "cell_type": "code",
   "execution_count": 36,
   "metadata": {},
   "outputs": [
    {
     "name": "stdout",
     "output_type": "stream",
     "text": [
      "<class 'pandas.core.series.Series'>\n",
      "Int64Index: 10840 entries, 0 to 10840\n",
      "Series name: Price\n",
      "Non-Null Count  Dtype  \n",
      "--------------  -----  \n",
      "10840 non-null  float64\n",
      "dtypes: float64(1)\n",
      "memory usage: 169.4 KB\n",
      "None\n",
      "[  0.     4.99   3.99   6.99   1.49   2.99   7.99   5.99   3.49   1.99\n",
      "   9.99   7.49   0.99   9.     5.49  10.    24.99  11.99  79.99  16.99\n",
      "  14.99   1.    29.99  12.99   2.49  10.99   1.5   19.99  15.99  33.99\n",
      "  74.99  39.99   3.95   4.49   1.7    8.99   2.     3.88  25.99 399.99\n",
      "  17.99 400.     3.02   1.76   4.84   4.77   1.61   2.5    1.59   6.49\n",
      "   1.29   5.    13.99 299.99 379.99  37.99  18.99 389.99  19.9    8.49\n",
      "   1.75  14.     4.85  46.99 109.99 154.99   3.08   2.59   4.8    1.96\n",
      "  19.4    3.9    4.59  15.46   3.04   4.29   2.6    3.28   4.6   28.99\n",
      "   2.95   2.9    1.97 200.    89.99   2.56  30.99   3.61 394.99   1.26\n",
      "   1.2    1.04]\n"
     ]
    }
   ],
   "source": [
    "print(df['Price'].info())\n",
    "print(df['Price'].unique())"
   ]
  },
  {
   "cell_type": "markdown",
   "metadata": {},
   "source": [
    "Now let's adjust the size"
   ]
  },
  {
   "cell_type": "code",
   "execution_count": 37,
   "metadata": {},
   "outputs": [
    {
     "name": "stdout",
     "output_type": "stream",
     "text": [
      "<class 'pandas.core.series.Series'>\n",
      "Int64Index: 10840 entries, 0 to 10840\n",
      "Series name: Size\n",
      "Non-Null Count  Dtype \n",
      "--------------  ----- \n",
      "10840 non-null  object\n",
      "dtypes: object(1)\n",
      "memory usage: 169.4+ KB\n",
      "None\n",
      "['19M' '14M' '8.7M' '25M' '2.8M' '5.6M' '29M' '33M' '3.1M' '28M' '12M'\n",
      " '20M' '21M' '37M' '2.7M' '5.5M' '17M' '39M' '31M' '4.2M' '7.0M' '23M'\n",
      " '6.0M' '6.1M' '4.6M' '9.2M' '5.2M' '11M' '24M' 'Varies with device'\n",
      " '9.4M' '15M' '10M' '1.2M' '26M' '8.0M' '7.9M' '56M' '57M' '35M' '54M'\n",
      " '201k' '3.6M' '5.7M' '8.6M' '2.4M' '27M' '2.5M' '16M' '3.4M' '8.9M'\n",
      " '3.9M' '2.9M' '38M' '32M' '5.4M' '18M' '1.1M' '2.2M' '4.5M' '9.8M' '52M'\n",
      " '9.0M' '6.7M' '30M' '2.6M' '7.1M' '3.7M' '22M' '7.4M' '6.4M' '3.2M'\n",
      " '8.2M' '9.9M' '4.9M' '9.5M' '5.0M' '5.9M' '13M' '73M' '6.8M' '3.5M'\n",
      " '4.0M' '2.3M' '7.2M' '2.1M' '42M' '7.3M' '9.1M' '55M' '23k' '6.5M' '1.5M'\n",
      " '7.5M' '51M' '41M' '48M' '8.5M' '46M' '8.3M' '4.3M' '4.7M' '3.3M' '40M'\n",
      " '7.8M' '8.8M' '6.6M' '5.1M' '61M' '66M' '79k' '8.4M' '118k' '44M' '695k'\n",
      " '1.6M' '6.2M' '18k' '53M' '1.4M' '3.0M' '5.8M' '3.8M' '9.6M' '45M' '63M'\n",
      " '49M' '77M' '4.4M' '4.8M' '70M' '6.9M' '9.3M' '10.0M' '8.1M' '36M' '84M'\n",
      " '97M' '2.0M' '1.9M' '1.8M' '5.3M' '47M' '556k' '526k' '76M' '7.6M' '59M'\n",
      " '9.7M' '78M' '72M' '43M' '7.7M' '6.3M' '334k' '34M' '93M' '65M' '79M'\n",
      " '100M' '58M' '50M' '68M' '64M' '67M' '60M' '94M' '232k' '99M' '624k'\n",
      " '95M' '8.5k' '41k' '292k' '11k' '80M' '1.7M' '74M' '62M' '69M' '75M'\n",
      " '98M' '85M' '82M' '96M' '87M' '71M' '86M' '91M' '81M' '92M' '83M' '88M'\n",
      " '704k' '862k' '899k' '378k' '266k' '375k' '1.3M' '975k' '980k' '4.1M'\n",
      " '89M' '696k' '544k' '525k' '920k' '779k' '853k' '720k' '713k' '772k'\n",
      " '318k' '58k' '241k' '196k' '857k' '51k' '953k' '865k' '251k' '930k'\n",
      " '540k' '313k' '746k' '203k' '26k' '314k' '239k' '371k' '220k' '730k'\n",
      " '756k' '91k' '293k' '17k' '74k' '14k' '317k' '78k' '924k' '902k' '818k'\n",
      " '81k' '939k' '169k' '45k' '475k' '965k' '90M' '545k' '61k' '283k' '655k'\n",
      " '714k' '93k' '872k' '121k' '322k' '1.0M' '976k' '172k' '238k' '549k'\n",
      " '206k' '954k' '444k' '717k' '210k' '609k' '308k' '705k' '306k' '904k'\n",
      " '473k' '175k' '350k' '383k' '454k' '421k' '70k' '812k' '442k' '842k'\n",
      " '417k' '412k' '459k' '478k' '335k' '782k' '721k' '430k' '429k' '192k'\n",
      " '200k' '460k' '728k' '496k' '816k' '414k' '506k' '887k' '613k' '243k'\n",
      " '569k' '778k' '683k' '592k' '319k' '186k' '840k' '647k' '191k' '373k'\n",
      " '437k' '598k' '716k' '585k' '982k' '222k' '219k' '55k' '948k' '323k'\n",
      " '691k' '511k' '951k' '963k' '25k' '554k' '351k' '27k' '82k' '208k' '913k'\n",
      " '514k' '551k' '29k' '103k' '898k' '743k' '116k' '153k' '209k' '353k'\n",
      " '499k' '173k' '597k' '809k' '122k' '411k' '400k' '801k' '787k' '237k'\n",
      " '50k' '643k' '986k' '97k' '516k' '837k' '780k' '961k' '269k' '20k' '498k'\n",
      " '600k' '749k' '642k' '881k' '72k' '656k' '601k' '221k' '228k' '108k'\n",
      " '940k' '176k' '33k' '663k' '34k' '942k' '259k' '164k' '458k' '245k'\n",
      " '629k' '28k' '288k' '775k' '785k' '636k' '916k' '994k' '309k' '485k'\n",
      " '914k' '903k' '608k' '500k' '54k' '562k' '847k' '957k' '688k' '811k'\n",
      " '270k' '48k' '329k' '523k' '921k' '874k' '981k' '784k' '280k' '24k'\n",
      " '518k' '754k' '892k' '154k' '860k' '364k' '387k' '626k' '161k' '879k'\n",
      " '39k' '970k' '170k' '141k' '160k' '144k' '143k' '190k' '376k' '193k'\n",
      " '246k' '73k' '658k' '992k' '253k' '420k' '404k' '470k' '226k' '240k'\n",
      " '89k' '234k' '257k' '861k' '467k' '157k' '44k' '676k' '67k' '552k' '885k'\n",
      " '1020k' '582k' '619k']\n"
     ]
    }
   ],
   "source": [
    "print(df['Size'].info())\n",
    "print(df['Size'].unique())"
   ]
  },
  {
   "cell_type": "code",
   "execution_count": 38,
   "metadata": {},
   "outputs": [
    {
     "name": "stdout",
     "output_type": "stream",
     "text": [
      "1694\n"
     ]
    }
   ],
   "source": [
    "print(df['Size'].value_counts()['Varies with device'])"
   ]
  },
  {
   "cell_type": "markdown",
   "metadata": {},
   "source": [
    "So we have the problema that 'Varies with device' is found almost 1700 times in our dataframe, so we can:\n",
    "1) Eliminate those rows\n",
    "2) Replace with the mean\n",
    "3) Relace with the median\n",
    "4) Replace with the mode\n",
    "5) Other option\n",
    "\n",
    "In this case we are replacing with the median. Therefore we need a copy."
   ]
  },
  {
   "cell_type": "code",
   "execution_count": 39,
   "metadata": {},
   "outputs": [
    {
     "name": "stdout",
     "output_type": "stream",
     "text": [
      "<class 'pandas.core.frame.DataFrame'>\n",
      "RangeIndex: 9146 entries, 0 to 9145\n",
      "Data columns (total 15 columns):\n",
      " #   Column              Non-Null Count  Dtype         \n",
      "---  ------              --------------  -----         \n",
      " 0   App                 9146 non-null   object        \n",
      " 1   Category            9145 non-null   object        \n",
      " 2   Rating              7730 non-null   object        \n",
      " 3   Reviews             9146 non-null   object        \n",
      " 4   Size                9146 non-null   object        \n",
      " 5   Installs            9146 non-null   int32         \n",
      " 6   Type                9146 non-null   object        \n",
      " 7   Price               9146 non-null   float64       \n",
      " 8   Content Rating      9146 non-null   object        \n",
      " 9   Genres              9145 non-null   object        \n",
      " 10  Last Updated        9146 non-null   datetime64[ns]\n",
      " 11  Current Ver         9138 non-null   object        \n",
      " 12  Android Ver         9144 non-null   object        \n",
      " 13  Year_Last_Updated   9146 non-null   int64         \n",
      " 14  Month_Last_Updated  9146 non-null   int64         \n",
      "dtypes: datetime64[ns](1), float64(1), int32(1), int64(2), object(10)\n",
      "memory usage: 1.0+ MB\n",
      "None\n"
     ]
    }
   ],
   "source": [
    "df_size = df.loc[df['Size'] != 'Varies with device'].copy()\n",
    "df_size.reset_index(drop = True, inplace = True)\n",
    "print(df_size.info())"
   ]
  },
  {
   "cell_type": "code",
   "execution_count": 40,
   "metadata": {},
   "outputs": [],
   "source": [
    "def convert_size(size_str):\n",
    "    if 'M' in size_str:\n",
    "        return float(size_str.replace('M', ''))\n",
    "    elif 'k' in size_str:\n",
    "        return float(size_str.replace('k', '')) / 1024 "
   ]
  },
  {
   "cell_type": "code",
   "execution_count": 41,
   "metadata": {},
   "outputs": [],
   "source": [
    "\n",
    "df_size['Size'] = df_size['Size'].apply(convert_size)"
   ]
  },
  {
   "cell_type": "code",
   "execution_count": 42,
   "metadata": {},
   "outputs": [
    {
     "name": "stdout",
     "output_type": "stream",
     "text": [
      "0       19.0\n",
      "1       14.0\n",
      "2        8.7\n",
      "3       25.0\n",
      "4        2.8\n",
      "        ... \n",
      "9141     9.6\n",
      "9142    53.0\n",
      "9143     3.6\n",
      "9144     9.5\n",
      "9145    19.0\n",
      "Name: Size, Length: 9146, dtype: float64\n"
     ]
    }
   ],
   "source": [
    "print(df_size['Size'])"
   ]
  },
  {
   "cell_type": "code",
   "execution_count": 43,
   "metadata": {},
   "outputs": [
    {
     "data": {
      "text/plain": [
       "13.0"
      ]
     },
     "execution_count": 43,
     "metadata": {},
     "output_type": "execute_result"
    }
   ],
   "source": [
    "df_size['Size'].median()"
   ]
  },
  {
   "cell_type": "markdown",
   "metadata": {},
   "source": [
    "So we know that the median is 13, therefore every time we see a value that can't be converted into a float number, we are replacing it by 13 MB "
   ]
  },
  {
   "cell_type": "code",
   "execution_count": 44,
   "metadata": {},
   "outputs": [],
   "source": [
    "df['Size'].replace('Varies with device', '13M', inplace = True)"
   ]
  },
  {
   "cell_type": "code",
   "execution_count": 45,
   "metadata": {},
   "outputs": [],
   "source": [
    "df['Size'] = df['Size'].apply(convert_size)"
   ]
  },
  {
   "cell_type": "code",
   "execution_count": 46,
   "metadata": {},
   "outputs": [
    {
     "name": "stdout",
     "output_type": "stream",
     "text": [
      "<class 'pandas.core.series.Series'>\n",
      "Int64Index: 10840 entries, 0 to 10840\n",
      "Series name: Size\n",
      "Non-Null Count  Dtype  \n",
      "--------------  -----  \n",
      "10840 non-null  float64\n",
      "dtypes: float64(1)\n",
      "memory usage: 169.4 KB\n",
      "None\n",
      "[1.90000000e+01 1.40000000e+01 8.70000000e+00 2.50000000e+01\n",
      " 2.80000000e+00 5.60000000e+00 2.90000000e+01 3.30000000e+01\n",
      " 3.10000000e+00 2.80000000e+01 1.20000000e+01 2.00000000e+01\n",
      " 2.10000000e+01 3.70000000e+01 2.70000000e+00 5.50000000e+00\n",
      " 1.70000000e+01 3.90000000e+01 3.10000000e+01 4.20000000e+00\n",
      " 7.00000000e+00 2.30000000e+01 6.00000000e+00 6.10000000e+00\n",
      " 4.60000000e+00 9.20000000e+00 5.20000000e+00 1.10000000e+01\n",
      " 2.40000000e+01 1.30000000e+01 9.40000000e+00 1.50000000e+01\n",
      " 1.00000000e+01 1.20000000e+00 2.60000000e+01 8.00000000e+00\n",
      " 7.90000000e+00 5.60000000e+01 5.70000000e+01 3.50000000e+01\n",
      " 5.40000000e+01 1.96289062e-01 3.60000000e+00 5.70000000e+00\n",
      " 8.60000000e+00 2.40000000e+00 2.70000000e+01 2.50000000e+00\n",
      " 1.60000000e+01 3.40000000e+00 8.90000000e+00 3.90000000e+00\n",
      " 2.90000000e+00 3.80000000e+01 3.20000000e+01 5.40000000e+00\n",
      " 1.80000000e+01 1.10000000e+00 2.20000000e+00 4.50000000e+00\n",
      " 9.80000000e+00 5.20000000e+01 9.00000000e+00 6.70000000e+00\n",
      " 3.00000000e+01 2.60000000e+00 7.10000000e+00 3.70000000e+00\n",
      " 2.20000000e+01 7.40000000e+00 6.40000000e+00 3.20000000e+00\n",
      " 8.20000000e+00 9.90000000e+00 4.90000000e+00 9.50000000e+00\n",
      " 5.00000000e+00 5.90000000e+00 7.30000000e+01 6.80000000e+00\n",
      " 3.50000000e+00 4.00000000e+00 2.30000000e+00 7.20000000e+00\n",
      " 2.10000000e+00 4.20000000e+01 7.30000000e+00 9.10000000e+00\n",
      " 5.50000000e+01 2.24609375e-02 6.50000000e+00 1.50000000e+00\n",
      " 7.50000000e+00 5.10000000e+01 4.10000000e+01 4.80000000e+01\n",
      " 8.50000000e+00 4.60000000e+01 8.30000000e+00 4.30000000e+00\n",
      " 4.70000000e+00 3.30000000e+00 4.00000000e+01 7.80000000e+00\n",
      " 8.80000000e+00 6.60000000e+00 5.10000000e+00 6.10000000e+01\n",
      " 6.60000000e+01 7.71484375e-02 8.40000000e+00 1.15234375e-01\n",
      " 4.40000000e+01 6.78710938e-01 1.60000000e+00 6.20000000e+00\n",
      " 1.75781250e-02 5.30000000e+01 1.40000000e+00 3.00000000e+00\n",
      " 5.80000000e+00 3.80000000e+00 9.60000000e+00 4.50000000e+01\n",
      " 6.30000000e+01 4.90000000e+01 7.70000000e+01 4.40000000e+00\n",
      " 4.80000000e+00 7.00000000e+01 6.90000000e+00 9.30000000e+00\n",
      " 8.10000000e+00 3.60000000e+01 8.40000000e+01 9.70000000e+01\n",
      " 2.00000000e+00 1.90000000e+00 1.80000000e+00 5.30000000e+00\n",
      " 4.70000000e+01 5.42968750e-01 5.13671875e-01 7.60000000e+01\n",
      " 7.60000000e+00 5.90000000e+01 9.70000000e+00 7.80000000e+01\n",
      " 7.20000000e+01 4.30000000e+01 7.70000000e+00 6.30000000e+00\n",
      " 3.26171875e-01 3.40000000e+01 9.30000000e+01 6.50000000e+01\n",
      " 7.90000000e+01 1.00000000e+02 5.80000000e+01 5.00000000e+01\n",
      " 6.80000000e+01 6.40000000e+01 6.70000000e+01 6.00000000e+01\n",
      " 9.40000000e+01 2.26562500e-01 9.90000000e+01 6.09375000e-01\n",
      " 9.50000000e+01 8.30078125e-03 4.00390625e-02 2.85156250e-01\n",
      " 1.07421875e-02 8.00000000e+01 1.70000000e+00 7.40000000e+01\n",
      " 6.20000000e+01 6.90000000e+01 7.50000000e+01 9.80000000e+01\n",
      " 8.50000000e+01 8.20000000e+01 9.60000000e+01 8.70000000e+01\n",
      " 7.10000000e+01 8.60000000e+01 9.10000000e+01 8.10000000e+01\n",
      " 9.20000000e+01 8.30000000e+01 8.80000000e+01 6.87500000e-01\n",
      " 8.41796875e-01 8.77929688e-01 3.69140625e-01 2.59765625e-01\n",
      " 3.66210938e-01 1.30000000e+00 9.52148438e-01 9.57031250e-01\n",
      " 4.10000000e+00 8.90000000e+01 6.79687500e-01 5.31250000e-01\n",
      " 5.12695312e-01 8.98437500e-01 7.60742188e-01 8.33007812e-01\n",
      " 7.03125000e-01 6.96289062e-01 7.53906250e-01 3.10546875e-01\n",
      " 5.66406250e-02 2.35351562e-01 1.91406250e-01 8.36914062e-01\n",
      " 4.98046875e-02 9.30664062e-01 8.44726562e-01 2.45117188e-01\n",
      " 9.08203125e-01 5.27343750e-01 3.05664062e-01 7.28515625e-01\n",
      " 1.98242188e-01 2.53906250e-02 3.06640625e-01 2.33398438e-01\n",
      " 3.62304688e-01 2.14843750e-01 7.12890625e-01 7.38281250e-01\n",
      " 8.88671875e-02 2.86132812e-01 1.66015625e-02 7.22656250e-02\n",
      " 1.36718750e-02 3.09570312e-01 7.61718750e-02 9.02343750e-01\n",
      " 8.80859375e-01 7.98828125e-01 7.91015625e-02 9.16992188e-01\n",
      " 1.65039062e-01 4.39453125e-02 4.63867188e-01 9.42382812e-01\n",
      " 9.00000000e+01 5.32226562e-01 5.95703125e-02 2.76367188e-01\n",
      " 6.39648438e-01 6.97265625e-01 9.08203125e-02 8.51562500e-01\n",
      " 1.18164062e-01 3.14453125e-01 1.00000000e+00 9.53125000e-01\n",
      " 1.67968750e-01 2.32421875e-01 5.36132812e-01 2.01171875e-01\n",
      " 9.31640625e-01 4.33593750e-01 7.00195312e-01 2.05078125e-01\n",
      " 5.94726562e-01 3.00781250e-01 6.88476562e-01 2.98828125e-01\n",
      " 8.82812500e-01 4.61914062e-01 1.70898438e-01 3.41796875e-01\n",
      " 3.74023438e-01 4.43359375e-01 4.11132812e-01 6.83593750e-02\n",
      " 7.92968750e-01 4.31640625e-01 8.22265625e-01 4.07226562e-01\n",
      " 4.02343750e-01 4.48242188e-01 4.66796875e-01 3.27148438e-01\n",
      " 7.63671875e-01 7.04101562e-01 4.19921875e-01 4.18945312e-01\n",
      " 1.87500000e-01 1.95312500e-01 4.49218750e-01 7.10937500e-01\n",
      " 4.84375000e-01 7.96875000e-01 4.04296875e-01 4.94140625e-01\n",
      " 8.66210938e-01 5.98632812e-01 2.37304688e-01 5.55664062e-01\n",
      " 7.59765625e-01 6.66992188e-01 5.78125000e-01 3.11523438e-01\n",
      " 1.81640625e-01 8.20312500e-01 6.31835938e-01 1.86523438e-01\n",
      " 3.64257812e-01 4.26757812e-01 5.83984375e-01 6.99218750e-01\n",
      " 5.71289062e-01 9.58984375e-01 2.16796875e-01 2.13867188e-01\n",
      " 5.37109375e-02 9.25781250e-01 3.15429688e-01 6.74804688e-01\n",
      " 4.99023438e-01 9.28710938e-01 9.40429688e-01 2.44140625e-02\n",
      " 5.41015625e-01 3.42773438e-01 2.63671875e-02 8.00781250e-02\n",
      " 2.03125000e-01 8.91601562e-01 5.01953125e-01 5.38085938e-01\n",
      " 2.83203125e-02 1.00585938e-01 8.76953125e-01 7.25585938e-01\n",
      " 1.13281250e-01 1.49414062e-01 2.04101562e-01 3.44726562e-01\n",
      " 4.87304688e-01 1.68945312e-01 5.83007812e-01 7.90039062e-01\n",
      " 1.19140625e-01 4.01367188e-01 3.90625000e-01 7.82226562e-01\n",
      " 7.68554688e-01 2.31445312e-01 4.88281250e-02 6.27929688e-01\n",
      " 9.62890625e-01 9.47265625e-02 5.03906250e-01 8.17382812e-01\n",
      " 7.61718750e-01 9.38476562e-01 2.62695312e-01 1.95312500e-02\n",
      " 4.86328125e-01 5.85937500e-01 7.31445312e-01 6.26953125e-01\n",
      " 8.60351562e-01 7.03125000e-02 6.40625000e-01 5.86914062e-01\n",
      " 2.15820312e-01 2.22656250e-01 1.05468750e-01 9.17968750e-01\n",
      " 1.71875000e-01 3.22265625e-02 6.47460938e-01 3.32031250e-02\n",
      " 9.19921875e-01 2.52929688e-01 1.60156250e-01 4.47265625e-01\n",
      " 2.39257812e-01 6.14257812e-01 2.73437500e-02 2.81250000e-01\n",
      " 7.56835938e-01 7.66601562e-01 6.21093750e-01 8.94531250e-01\n",
      " 9.70703125e-01 3.01757812e-01 4.73632812e-01 8.92578125e-01\n",
      " 8.81835938e-01 5.93750000e-01 4.88281250e-01 5.27343750e-02\n",
      " 5.48828125e-01 8.27148438e-01 9.34570312e-01 6.71875000e-01\n",
      " 7.91992188e-01 2.63671875e-01 4.68750000e-02 3.21289062e-01\n",
      " 5.10742188e-01 8.99414062e-01 8.53515625e-01 9.58007812e-01\n",
      " 7.65625000e-01 2.73437500e-01 2.34375000e-02 5.05859375e-01\n",
      " 7.36328125e-01 8.71093750e-01 1.50390625e-01 8.39843750e-01\n",
      " 3.55468750e-01 3.77929688e-01 6.11328125e-01 1.57226562e-01\n",
      " 8.58398438e-01 3.80859375e-02 9.47265625e-01 1.66015625e-01\n",
      " 1.37695312e-01 1.56250000e-01 1.40625000e-01 1.39648438e-01\n",
      " 1.85546875e-01 3.67187500e-01 1.88476562e-01 2.40234375e-01\n",
      " 7.12890625e-02 6.42578125e-01 9.68750000e-01 2.47070312e-01\n",
      " 4.10156250e-01 3.94531250e-01 4.58984375e-01 2.20703125e-01\n",
      " 2.34375000e-01 8.69140625e-02 2.28515625e-01 2.50976562e-01\n",
      " 8.40820312e-01 4.56054688e-01 1.53320312e-01 4.29687500e-02\n",
      " 6.60156250e-01 6.54296875e-02 5.39062500e-01 8.64257812e-01\n",
      " 9.96093750e-01 5.68359375e-01 6.04492188e-01]\n"
     ]
    }
   ],
   "source": [
    "print(df['Size'].info())\n",
    "print(df['Size'].unique())"
   ]
  },
  {
   "cell_type": "markdown",
   "metadata": {},
   "source": [
    "Now we are going to fit the data in order to be used by a regresion model. This time we are going to focus in the numerical information,  so it is going to be a simple analysis. If we want to take into account no numerical data, we can use one of the next methods.\n",
    "\n",
    "1) One-Hot Encoding\n",
    "2) Label Encoding\n",
    "3) Cardinal Coding\n",
    "4) Frequency coding\n",
    "5) Embendding  (in case of neural networks)\n",
    "6) Any other one"
   ]
  },
  {
   "cell_type": "markdown",
   "metadata": {},
   "source": [
    "We also have to adjust the type of the categories that we didn't before."
   ]
  },
  {
   "cell_type": "code",
   "execution_count": 47,
   "metadata": {},
   "outputs": [],
   "source": [
    "df['Rating'] = df['Rating'].astype(float)\n",
    "df['Reviews'] = df['Reviews'].astype(int)"
   ]
  },
  {
   "cell_type": "code",
   "execution_count": 48,
   "metadata": {},
   "outputs": [],
   "source": [
    "df_regresion = df.dropna()\n",
    "key_features = ['Reviews','Size','Installs','Price']\n",
    "objective_feature = ['Rating']\n",
    "x = df_regresion[key_features]\n",
    "y = df_regresion[objective_feature]"
   ]
  },
  {
   "cell_type": "code",
   "execution_count": 49,
   "metadata": {},
   "outputs": [
    {
     "name": "stdout",
     "output_type": "stream",
     "text": [
      "<class 'pandas.core.frame.DataFrame'>\n",
      "Int64Index: 9360 entries, 0 to 10840\n",
      "Data columns (total 15 columns):\n",
      " #   Column              Non-Null Count  Dtype         \n",
      "---  ------              --------------  -----         \n",
      " 0   App                 9360 non-null   object        \n",
      " 1   Category            9360 non-null   object        \n",
      " 2   Rating              9360 non-null   float64       \n",
      " 3   Reviews             9360 non-null   int32         \n",
      " 4   Size                9360 non-null   float64       \n",
      " 5   Installs            9360 non-null   int32         \n",
      " 6   Type                9360 non-null   object        \n",
      " 7   Price               9360 non-null   float64       \n",
      " 8   Content Rating      9360 non-null   object        \n",
      " 9   Genres              9360 non-null   object        \n",
      " 10  Last Updated        9360 non-null   datetime64[ns]\n",
      " 11  Current Ver         9360 non-null   object        \n",
      " 12  Android Ver         9360 non-null   object        \n",
      " 13  Year_Last_Updated   9360 non-null   int64         \n",
      " 14  Month_Last_Updated  9360 non-null   int64         \n",
      "dtypes: datetime64[ns](1), float64(3), int32(2), int64(2), object(7)\n",
      "memory usage: 1.1+ MB\n"
     ]
    },
    {
     "data": {
      "text/html": [
       "<div>\n",
       "<style scoped>\n",
       "    .dataframe tbody tr th:only-of-type {\n",
       "        vertical-align: middle;\n",
       "    }\n",
       "\n",
       "    .dataframe tbody tr th {\n",
       "        vertical-align: top;\n",
       "    }\n",
       "\n",
       "    .dataframe thead th {\n",
       "        text-align: right;\n",
       "    }\n",
       "</style>\n",
       "<table border=\"1\" class=\"dataframe\">\n",
       "  <thead>\n",
       "    <tr style=\"text-align: right;\">\n",
       "      <th></th>\n",
       "      <th>App</th>\n",
       "      <th>Category</th>\n",
       "      <th>Rating</th>\n",
       "      <th>Reviews</th>\n",
       "      <th>Size</th>\n",
       "      <th>Installs</th>\n",
       "      <th>Type</th>\n",
       "      <th>Price</th>\n",
       "      <th>Content Rating</th>\n",
       "      <th>Genres</th>\n",
       "      <th>Last Updated</th>\n",
       "      <th>Current Ver</th>\n",
       "      <th>Android Ver</th>\n",
       "      <th>Year_Last_Updated</th>\n",
       "      <th>Month_Last_Updated</th>\n",
       "    </tr>\n",
       "  </thead>\n",
       "  <tbody>\n",
       "    <tr>\n",
       "      <th>0</th>\n",
       "      <td>Photo Editor &amp; Candy Camera &amp; Grid &amp; ScrapBook</td>\n",
       "      <td>ART_AND_DESIGN</td>\n",
       "      <td>4.1</td>\n",
       "      <td>159</td>\n",
       "      <td>19.0</td>\n",
       "      <td>10000</td>\n",
       "      <td>Free</td>\n",
       "      <td>0.0</td>\n",
       "      <td>Everyone</td>\n",
       "      <td>Art &amp; Design</td>\n",
       "      <td>2018-01-07</td>\n",
       "      <td>1.0.0</td>\n",
       "      <td>4.0.3 and up</td>\n",
       "      <td>2018</td>\n",
       "      <td>1</td>\n",
       "    </tr>\n",
       "    <tr>\n",
       "      <th>1</th>\n",
       "      <td>Coloring book moana</td>\n",
       "      <td>ART_AND_DESIGN</td>\n",
       "      <td>3.9</td>\n",
       "      <td>967</td>\n",
       "      <td>14.0</td>\n",
       "      <td>500000</td>\n",
       "      <td>Free</td>\n",
       "      <td>0.0</td>\n",
       "      <td>Everyone</td>\n",
       "      <td>Art &amp; Design;Pretend Play</td>\n",
       "      <td>2018-01-15</td>\n",
       "      <td>2.0.0</td>\n",
       "      <td>4.0.3 and up</td>\n",
       "      <td>2018</td>\n",
       "      <td>1</td>\n",
       "    </tr>\n",
       "    <tr>\n",
       "      <th>2</th>\n",
       "      <td>U Launcher Lite – FREE Live Cool Themes, Hide ...</td>\n",
       "      <td>ART_AND_DESIGN</td>\n",
       "      <td>4.7</td>\n",
       "      <td>87510</td>\n",
       "      <td>8.7</td>\n",
       "      <td>5000000</td>\n",
       "      <td>Free</td>\n",
       "      <td>0.0</td>\n",
       "      <td>Everyone</td>\n",
       "      <td>Art &amp; Design</td>\n",
       "      <td>2018-08-01</td>\n",
       "      <td>1.2.4</td>\n",
       "      <td>4.0.3 and up</td>\n",
       "      <td>2018</td>\n",
       "      <td>8</td>\n",
       "    </tr>\n",
       "    <tr>\n",
       "      <th>3</th>\n",
       "      <td>Sketch - Draw &amp; Paint</td>\n",
       "      <td>ART_AND_DESIGN</td>\n",
       "      <td>4.5</td>\n",
       "      <td>215644</td>\n",
       "      <td>25.0</td>\n",
       "      <td>50000000</td>\n",
       "      <td>Free</td>\n",
       "      <td>0.0</td>\n",
       "      <td>Teen</td>\n",
       "      <td>Art &amp; Design</td>\n",
       "      <td>2018-06-08</td>\n",
       "      <td>Varies with device</td>\n",
       "      <td>4.2 and up</td>\n",
       "      <td>2018</td>\n",
       "      <td>6</td>\n",
       "    </tr>\n",
       "  </tbody>\n",
       "</table>\n",
       "</div>"
      ],
      "text/plain": [
       "                                                 App        Category  Rating  \\\n",
       "0     Photo Editor & Candy Camera & Grid & ScrapBook  ART_AND_DESIGN     4.1   \n",
       "1                                Coloring book moana  ART_AND_DESIGN     3.9   \n",
       "2  U Launcher Lite – FREE Live Cool Themes, Hide ...  ART_AND_DESIGN     4.7   \n",
       "3                              Sketch - Draw & Paint  ART_AND_DESIGN     4.5   \n",
       "\n",
       "   Reviews  Size  Installs  Type  Price Content Rating  \\\n",
       "0      159  19.0     10000  Free    0.0       Everyone   \n",
       "1      967  14.0    500000  Free    0.0       Everyone   \n",
       "2    87510   8.7   5000000  Free    0.0       Everyone   \n",
       "3   215644  25.0  50000000  Free    0.0           Teen   \n",
       "\n",
       "                      Genres Last Updated         Current Ver   Android Ver  \\\n",
       "0               Art & Design   2018-01-07               1.0.0  4.0.3 and up   \n",
       "1  Art & Design;Pretend Play   2018-01-15               2.0.0  4.0.3 and up   \n",
       "2               Art & Design   2018-08-01               1.2.4  4.0.3 and up   \n",
       "3               Art & Design   2018-06-08  Varies with device    4.2 and up   \n",
       "\n",
       "   Year_Last_Updated  Month_Last_Updated  \n",
       "0               2018                   1  \n",
       "1               2018                   1  \n",
       "2               2018                   8  \n",
       "3               2018                   6  "
      ]
     },
     "execution_count": 49,
     "metadata": {},
     "output_type": "execute_result"
    }
   ],
   "source": [
    "df_regresion.info()\n",
    "df_regresion.head(4)"
   ]
  },
  {
   "cell_type": "code",
   "execution_count": 50,
   "metadata": {},
   "outputs": [
    {
     "data": {
      "image/png": "[encoded data removed]",
      "text/plain": [
       "<Figure size 800x600 with 2 Axes>"
      ]
     },
     "metadata": {},
     "output_type": "display_data"
    }
   ],
   "source": [
    "\n",
    "df_correlation = df_regresion[['Reviews','Size','Installs','Price','Rating']]\n",
    "correlation_matrix = df_correlation.corr()\n",
    "\n",
    "plt.figure(figsize=(8, 6))\n",
    "sns.heatmap(correlation_matrix, annot=True, cmap='coolwarm', center=0)\n",
    "plt.title('Correlation Matrix')\n",
    "plt.show()\n"
   ]
  },
  {
   "cell_type": "code",
   "execution_count": 51,
   "metadata": {},
   "outputs": [
    {
     "name": "stderr",
     "output_type": "stream",
     "text": [
      "c:\\Users\\user\\AppData\\Local\\Programs\\Python\\Python310\\lib\\site-packages\\sklearn\\utils\\validation.py:1141: DataConversionWarning: A column-vector y was passed when a 1d array was expected. Please change the shape of y to (n_samples, ), for example using ravel().\n",
      "  y = column_or_1d(y, warn=True)\n"
     ]
    }
   ],
   "source": [
    "X_new = SelectKBest(f_regression,k=3).fit_transform(x,y)"
   ]
  },
  {
   "cell_type": "code",
   "execution_count": 52,
   "metadata": {},
   "outputs": [
    {
     "data": {
      "text/plain": [
       "PearsonRResult(statistic=0.06813270883720679, pvalue=4.155367872052734e-11)"
      ]
     },
     "execution_count": 52,
     "metadata": {},
     "output_type": "execute_result"
    }
   ],
   "source": [
    "pearsonr(df_regresion['Reviews'],df_regresion['Rating'])"
   ]
  },
  {
   "cell_type": "markdown",
   "metadata": {},
   "source": [
    "As we can see, the p-value is close to 0 which suggests that it is unlikely for the observed correlation to be due to chance, implying a statistically significant correlation."
   ]
  },
  {
   "cell_type": "code",
   "execution_count": 53,
   "metadata": {},
   "outputs": [
    {
     "ename": "AttributeError",
     "evalue": "'JointGrid' object has no attribute 'annotate'",
     "output_type": "error",
     "traceback": [
      "\u001b[1;31m---------------------------------------------------------------------------\u001b[0m",
      "\u001b[1;31mAttributeError\u001b[0m                            Traceback (most recent call last)",
      "\u001b[1;32mc:\\Users\\user\\Desktop\\Portafolio\\GoogleStore\\GooglePlayStore.ipynb Cell 78\u001b[0m line \u001b[0;36m4\n\u001b[0;32m      <a href='vscode-notebook-cell:/c%3A/Users/user/Desktop/Portafolio/GoogleStore/GooglePlayStore.ipynb#Y140sZmlsZQ%3D%3D?line=0'>1</a>\u001b[0m plt\u001b[39m.\u001b[39mfigure(figsize\u001b[39m=\u001b[39m(\u001b[39m6\u001b[39m, \u001b[39m3\u001b[39m))\n\u001b[0;32m      <a href='vscode-notebook-cell:/c%3A/Users/user/Desktop/Portafolio/GoogleStore/GooglePlayStore.ipynb#Y140sZmlsZQ%3D%3D?line=2'>3</a>\u001b[0m correlation_study \u001b[39m=\u001b[39m sns\u001b[39m.\u001b[39mjointplot( x \u001b[39m=\u001b[39m \u001b[39m'\u001b[39m\u001b[39mReviews\u001b[39m\u001b[39m'\u001b[39m,y \u001b[39m=\u001b[39m \u001b[39m'\u001b[39m\u001b[39mRating\u001b[39m\u001b[39m'\u001b[39m, data\u001b[39m=\u001b[39mdf_regresion, kind\u001b[39m=\u001b[39m\u001b[39m'\u001b[39m\u001b[39mreg\u001b[39m\u001b[39m'\u001b[39m)\n\u001b[1;32m----> <a href='vscode-notebook-cell:/c%3A/Users/user/Desktop/Portafolio/GoogleStore/GooglePlayStore.ipynb#Y140sZmlsZQ%3D%3D?line=3'>4</a>\u001b[0m correlation_study\u001b[39m.\u001b[39;49mannotate(stats\u001b[39m.\u001b[39mpearsonr)\n\u001b[0;32m      <a href='vscode-notebook-cell:/c%3A/Users/user/Desktop/Portafolio/GoogleStore/GooglePlayStore.ipynb#Y140sZmlsZQ%3D%3D?line=5'>6</a>\u001b[0m correlation_study\u001b[39m.\u001b[39mfig\u001b[39m.\u001b[39msuptitle(\u001b[39m'\u001b[39m\u001b[39mCorrelation graphic (Reviews vs Rating)\u001b[39m\u001b[39m'\u001b[39m, y\u001b[39m=\u001b[39m\u001b[39m1.02\u001b[39m)\n\u001b[0;32m      <a href='vscode-notebook-cell:/c%3A/Users/user/Desktop/Portafolio/GoogleStore/GooglePlayStore.ipynb#Y140sZmlsZQ%3D%3D?line=7'>8</a>\u001b[0m plt\u001b[39m.\u001b[39mshow()\n",
      "\u001b[1;31mAttributeError\u001b[0m: 'JointGrid' object has no attribute 'annotate'"
     ]
    },
    {
     "data": {
      "text/plain": [
       "<Figure size 600x300 with 0 Axes>"
      ]
     },
     "metadata": {},
     "output_type": "display_data"
    },
    {
     "data": {
      "image/png": "[encoded data removed]",
      "text/plain": [
       "<Figure size 600x600 with 3 Axes>"
      ]
     },
     "metadata": {},
     "output_type": "display_data"
    }
   ],
   "source": [
    "plt.figure(figsize=(6, 3))\n",
    "\n",
    "correlation_study = sns.jointplot( x = 'Reviews',y = 'Rating', data=df_regresion, kind='reg')\n",
    "correlation_study.annotate(stats.pearsonr)\n",
    "\n",
    "correlation_study.fig.suptitle('Correlation graphic (Reviews vs Rating)', y=1.02)\n",
    "\n",
    "plt.show()"
   ]
  },
  {
   "cell_type": "markdown",
   "metadata": {},
   "source": [
    "Finally let's compare all p-values and correlation coefs."
   ]
  },
  {
   "cell_type": "code",
   "execution_count": 54,
   "metadata": {},
   "outputs": [
    {
     "name": "stdout",
     "output_type": "stream",
     "text": [
      "   Features  co-relation       P-value\n",
      "0   Reviews     0.068133  4.155368e-11\n",
      "1      Size     0.065855  1.802004e-10\n",
      "2  Installs     0.051337  6.719095e-07\n",
      "3     Price    -0.021919  3.395385e-02\n"
     ]
    }
   ],
   "source": [
    "result_data = []\n",
    "\n",
    "for feature in key_features: #I defined key_fetures upstream\n",
    "    correlation, p_value = pearsonr(df_regresion[feature], df_regresion['Rating'])\n",
    "    result_data.append({'Features': feature, 'co-relation': correlation, 'P-value': p_value})\n",
    "\n",
    "result_table = pd.DataFrame(result_data)\n",
    "# Mostrar la tabla de resultados\n",
    "print(result_table)"
   ]
  },
  {
   "cell_type": "markdown",
   "metadata": {},
   "source": [
    "Since the feature with less correlation is the Price (and taking into account that the P-value low to 0 in every row suggests that we can trust that the results are not due to chance), we are removing this feature from the model."
   ]
  },
  {
   "cell_type": "code",
   "execution_count": 55,
   "metadata": {},
   "outputs": [
    {
     "name": "stderr",
     "output_type": "stream",
     "text": [
      "C:\\Users\\user\\AppData\\Local\\Temp\\ipykernel_20900\\928799755.py:1: SettingWithCopyWarning: \n",
      "A value is trying to be set on a copy of a slice from a DataFrame\n",
      "\n",
      "See the caveats in the documentation: https://pandas.pydata.org/pandas-docs/stable/user_guide/indexing.html#returning-a-view-versus-a-copy\n",
      "  df_regresion.drop('Price', axis = 1, inplace = True)\n",
      "C:\\Users\\user\\AppData\\Local\\Temp\\ipykernel_20900\\928799755.py:2: FutureWarning: The default value of numeric_only in DataFrame.corr is deprecated. In a future version, it will default to False. Select only valid columns or specify the value of numeric_only to silence this warning.\n",
      "  df_regresion.corr()\n"
     ]
    },
    {
     "data": {
      "text/html": [
       "<div>\n",
       "<style scoped>\n",
       "    .dataframe tbody tr th:only-of-type {\n",
       "        vertical-align: middle;\n",
       "    }\n",
       "\n",
       "    .dataframe tbody tr th {\n",
       "        vertical-align: top;\n",
       "    }\n",
       "\n",
       "    .dataframe thead th {\n",
       "        text-align: right;\n",
       "    }\n",
       "</style>\n",
       "<table border=\"1\" class=\"dataframe\">\n",
       "  <thead>\n",
       "    <tr style=\"text-align: right;\">\n",
       "      <th></th>\n",
       "      <th>Rating</th>\n",
       "      <th>Reviews</th>\n",
       "      <th>Size</th>\n",
       "      <th>Installs</th>\n",
       "      <th>Year_Last_Updated</th>\n",
       "      <th>Month_Last_Updated</th>\n",
       "    </tr>\n",
       "  </thead>\n",
       "  <tbody>\n",
       "    <tr>\n",
       "      <th>Rating</th>\n",
       "      <td>1.000000</td>\n",
       "      <td>0.068133</td>\n",
       "      <td>0.065855</td>\n",
       "      <td>0.051337</td>\n",
       "      <td>0.137871</td>\n",
       "      <td>0.017234</td>\n",
       "    </tr>\n",
       "    <tr>\n",
       "      <th>Reviews</th>\n",
       "      <td>0.068133</td>\n",
       "      <td>1.000000</td>\n",
       "      <td>0.100870</td>\n",
       "      <td>0.641605</td>\n",
       "      <td>0.078321</td>\n",
       "      <td>0.048959</td>\n",
       "    </tr>\n",
       "    <tr>\n",
       "      <th>Size</th>\n",
       "      <td>0.065855</td>\n",
       "      <td>0.100870</td>\n",
       "      <td>1.000000</td>\n",
       "      <td>0.040449</td>\n",
       "      <td>0.180164</td>\n",
       "      <td>0.031644</td>\n",
       "    </tr>\n",
       "    <tr>\n",
       "      <th>Installs</th>\n",
       "      <td>0.051337</td>\n",
       "      <td>0.641605</td>\n",
       "      <td>0.040449</td>\n",
       "      <td>1.000000</td>\n",
       "      <td>0.092689</td>\n",
       "      <td>0.060282</td>\n",
       "    </tr>\n",
       "    <tr>\n",
       "      <th>Year_Last_Updated</th>\n",
       "      <td>0.137871</td>\n",
       "      <td>0.078321</td>\n",
       "      <td>0.180164</td>\n",
       "      <td>0.092689</td>\n",
       "      <td>1.000000</td>\n",
       "      <td>-0.171858</td>\n",
       "    </tr>\n",
       "    <tr>\n",
       "      <th>Month_Last_Updated</th>\n",
       "      <td>0.017234</td>\n",
       "      <td>0.048959</td>\n",
       "      <td>0.031644</td>\n",
       "      <td>0.060282</td>\n",
       "      <td>-0.171858</td>\n",
       "      <td>1.000000</td>\n",
       "    </tr>\n",
       "  </tbody>\n",
       "</table>\n",
       "</div>"
      ],
      "text/plain": [
       "                      Rating   Reviews      Size  Installs  Year_Last_Updated  \\\n",
       "Rating              1.000000  0.068133  0.065855  0.051337           0.137871   \n",
       "Reviews             0.068133  1.000000  0.100870  0.641605           0.078321   \n",
       "Size                0.065855  0.100870  1.000000  0.040449           0.180164   \n",
       "Installs            0.051337  0.641605  0.040449  1.000000           0.092689   \n",
       "Year_Last_Updated   0.137871  0.078321  0.180164  0.092689           1.000000   \n",
       "Month_Last_Updated  0.017234  0.048959  0.031644  0.060282          -0.171858   \n",
       "\n",
       "                    Month_Last_Updated  \n",
       "Rating                        0.017234  \n",
       "Reviews                       0.048959  \n",
       "Size                          0.031644  \n",
       "Installs                      0.060282  \n",
       "Year_Last_Updated            -0.171858  \n",
       "Month_Last_Updated            1.000000  "
      ]
     },
     "execution_count": 55,
     "metadata": {},
     "output_type": "execute_result"
    }
   ],
   "source": [
    "df_regresion.drop('Price', axis = 1, inplace = True)\n",
    "df_regresion.corr()"
   ]
  },
  {
   "cell_type": "markdown",
   "metadata": {},
   "source": [
    "### 4) Detecting and eliminating outliers"
   ]
  },
  {
   "cell_type": "code",
   "execution_count": 56,
   "metadata": {},
   "outputs": [
    {
     "name": "stdout",
     "output_type": "stream",
     "text": [
      "Outliers:\n",
      "                                                 App             Category  \\\n",
      "169                       English Persian Dictionary  BOOKS_AND_REFERENCE   \n",
      "600                         iPair-Meet, Chat, Dating               DATING   \n",
      "615                                     Awake Dating               DATING   \n",
      "695                         iPair-Meet, Chat, Dating               DATING   \n",
      "728    Free intellectual training game application |            EDUCATION   \n",
      "...                                              ...                  ...   \n",
      "10783   Modern Counter Terror Attack – Shooting Game                 GAME   \n",
      "10784                                     Big Hunter                 GAME   \n",
      "10793                                      Sid Story                 GAME   \n",
      "10803                   Fatal Raid - No.1 Mobile FPS                 GAME   \n",
      "10824                                      Cardio-FR              MEDICAL   \n",
      "\n",
      "       Rating  Reviews  Size  Installs  Type  Price Content Rating  \\\n",
      "169       4.5    26875  73.0    500000  Free    0.0       Everyone   \n",
      "600       4.5   182986  77.0   5000000  Free    0.0     Mature 17+   \n",
      "615       5.0        2  70.0       100  Free    0.0     Mature 17+   \n",
      "695       4.5   182986  77.0   5000000  Free    0.0     Mature 17+   \n",
      "728       4.2     5741  84.0   1000000  Free    0.0       Everyone   \n",
      "...       ...      ...   ...       ...   ...    ...            ...   \n",
      "10783     4.2      340  72.0     50000  Free    0.0     Mature 17+   \n",
      "10784     4.3   245455  84.0  10000000  Free    0.0   Everyone 10+   \n",
      "10793     4.4    28510  78.0    500000  Free    0.0           Teen   \n",
      "10803     4.3    56496  81.0   1000000  Free    0.0           Teen   \n",
      "10824     NaN       67  82.0     10000  Free    0.0       Everyone   \n",
      "\n",
      "                       Genres Last Updated Current Ver   Android Ver  \\\n",
      "169         Books & Reference   2018-08-01       6.0.8  4.0.3 and up   \n",
      "600                    Dating   2018-08-02       5.0.8    4.1 and up   \n",
      "615                    Dating   2018-07-24       2.2.9    4.4 and up   \n",
      "695                    Dating   2018-08-02       5.0.8    4.1 and up   \n",
      "728    Education;Pretend Play   2018-07-25       3.7.0    4.4 and up   \n",
      "...                       ...          ...         ...           ...   \n",
      "10783                  Action   2017-10-27         1.0    4.1 and up   \n",
      "10784                  Action   2018-05-31       2.8.6    4.0 and up   \n",
      "10793                    Card   2018-08-01       2.6.6  4.0.3 and up   \n",
      "10803                  Action   2018-08-07     1.5.447    4.0 and up   \n",
      "10824                 Medical   2018-07-31       2.2.2    4.4 and up   \n",
      "\n",
      "       Year_Last_Updated  Month_Last_Updated  \n",
      "169                 2018                   8  \n",
      "600                 2018                   8  \n",
      "615                 2018                   7  \n",
      "695                 2018                   8  \n",
      "728                 2018                   7  \n",
      "...                  ...                 ...  \n",
      "10783               2017                  10  \n",
      "10784               2018                   5  \n",
      "10793               2018                   8  \n",
      "10803               2018                   8  \n",
      "10824               2018                   7  \n",
      "\n",
      "[564 rows x 15 columns]\n"
     ]
    },
    {
     "data": {
      "image/png": "[encoded data removed]",
      "text/plain": [
       "<Figure size 640x480 with 1 Axes>"
      ]
     },
     "metadata": {},
     "output_type": "display_data"
    }
   ],
   "source": [
    "\n",
    "Q1 = df_regresion['Size'].quantile(0.25)\n",
    "Q3 = df_regresion['Size'].quantile(0.75)\n",
    "IQR = Q3 - Q1\n",
    "\n",
    "# Definir los límites para identificar outliers\n",
    "lower_bound = Q1 - 2 * IQR\n",
    "upper_bound = Q3 + 2 * IQR\n",
    "\n",
    "# Identificar y mostrar outliers\n",
    "outliers = df[(df['Size'] < lower_bound) | (df['Size'] > upper_bound)]\n",
    "print(\"Outliers:\")\n",
    "print(outliers)\n",
    "\n",
    "# Crear un gráfico de dispersión\n",
    "plt.scatter(df_regresion['Size'], df_regresion['Rating'])\n",
    "plt.title('Gráfico de Dispersión: Size vs Rating')\n",
    "plt.xlabel('Size')\n",
    "plt.ylabel('Rating')\n",
    "#plt.figure(figsize = (6,4))\n",
    "# Marcar los outliers en el gráfico\n",
    "plt.scatter(outliers['Size'], outliers['Rating'], color='red', label='Outliers')\n",
    "plt.legend()\n",
    "\n",
    "plt.show()"
   ]
  },
  {
   "cell_type": "markdown",
   "metadata": {},
   "source": [
    "First we are creating a copy of the dataframe just to have a backup in case we make changes we don't want. \n",
    "There are multiple ways to determine \"what is an outlier\". In this case, we are considering them as every value farther than  3 times the standar desviation from the mean.\n",
    "Then we can:\n",
    "1) Replace them with the mode\n",
    "2) Replace them with the mean\n",
    "3) Replace them with the median\n",
    "4) Eliminitate those rows\n",
    "5) Other adjument\n",
    "\n",
    "Now we are just oging to eliminate them."
   ]
  },
  {
   "cell_type": "code",
   "execution_count": 57,
   "metadata": {},
   "outputs": [],
   "source": [
    "df_no_outliers = df_regresion.copy(deep = True)"
   ]
  },
  {
   "cell_type": "code",
   "execution_count": 58,
   "metadata": {},
   "outputs": [],
   "source": [
    "def remove_outliers_sd(df, feature):\n",
    "    df_out = pd.DataFrame()\n",
    "    for key,subdf in df.groupby('Type'):\n",
    "        m = np.mean(subdf[feature])\n",
    "        sd = np.std(subdf[feature])\n",
    "        reduced_df = subdf[(subdf[feature] >= (m - 3*sd)) & (subdf[feature] <= (m + 3*sd))]\n",
    "        \n",
    "        df_out=pd.concat([df_out,reduced_df], ignore_index=True)\n",
    "    return df_out"
   ]
  },
  {
   "cell_type": "code",
   "execution_count": 59,
   "metadata": {},
   "outputs": [],
   "source": [
    "df_no_outliers = remove_outliers_sd(df_no_outliers, 'Size')\n",
    "df_no_outliers = remove_outliers_sd(df_no_outliers, 'Installs')\n",
    "df_no_outliers = remove_outliers_sd(df_no_outliers, 'Reviews')"
   ]
  },
  {
   "cell_type": "code",
   "execution_count": 60,
   "metadata": {},
   "outputs": [
    {
     "name": "stdout",
     "output_type": "stream",
     "text": [
      "(9360, 14)\n",
      "(8789, 14)\n"
     ]
    }
   ],
   "source": [
    "print(df_regresion.shape)\n",
    "print(df_no_outliers.shape)"
   ]
  },
  {
   "cell_type": "markdown",
   "metadata": {},
   "source": [
    "## 5) Feature Encoding"
   ]
  },
  {
   "cell_type": "markdown",
   "metadata": {},
   "source": [
    "Since a lof of our data in not numerical, we need to adapt those columns to numbers that can be interpretated by the model."
   ]
  },
  {
   "cell_type": "code",
   "execution_count": 61,
   "metadata": {},
   "outputs": [
    {
     "data": {
      "text/html": [
       "<div>\n",
       "<style scoped>\n",
       "    .dataframe tbody tr th:only-of-type {\n",
       "        vertical-align: middle;\n",
       "    }\n",
       "\n",
       "    .dataframe tbody tr th {\n",
       "        vertical-align: top;\n",
       "    }\n",
       "\n",
       "    .dataframe thead th {\n",
       "        text-align: right;\n",
       "    }\n",
       "</style>\n",
       "<table border=\"1\" class=\"dataframe\">\n",
       "  <thead>\n",
       "    <tr style=\"text-align: right;\">\n",
       "      <th></th>\n",
       "      <th>App</th>\n",
       "      <th>Category</th>\n",
       "      <th>Rating</th>\n",
       "      <th>Reviews</th>\n",
       "      <th>Size</th>\n",
       "      <th>Installs</th>\n",
       "      <th>Type</th>\n",
       "      <th>Content Rating</th>\n",
       "      <th>Genres</th>\n",
       "      <th>Last Updated</th>\n",
       "      <th>Current Ver</th>\n",
       "      <th>Android Ver</th>\n",
       "      <th>Year_Last_Updated</th>\n",
       "      <th>Month_Last_Updated</th>\n",
       "    </tr>\n",
       "  </thead>\n",
       "  <tbody>\n",
       "    <tr>\n",
       "      <th>0</th>\n",
       "      <td>Photo Editor &amp; Candy Camera &amp; Grid &amp; ScrapBook</td>\n",
       "      <td>ART_AND_DESIGN</td>\n",
       "      <td>4.1</td>\n",
       "      <td>159</td>\n",
       "      <td>19.0</td>\n",
       "      <td>10000</td>\n",
       "      <td>Free</td>\n",
       "      <td>Everyone</td>\n",
       "      <td>Art &amp; Design</td>\n",
       "      <td>2018-01-07</td>\n",
       "      <td>1.0.0</td>\n",
       "      <td>4.0.3 and up</td>\n",
       "      <td>2018</td>\n",
       "      <td>1</td>\n",
       "    </tr>\n",
       "    <tr>\n",
       "      <th>1</th>\n",
       "      <td>Coloring book moana</td>\n",
       "      <td>ART_AND_DESIGN</td>\n",
       "      <td>3.9</td>\n",
       "      <td>967</td>\n",
       "      <td>14.0</td>\n",
       "      <td>500000</td>\n",
       "      <td>Free</td>\n",
       "      <td>Everyone</td>\n",
       "      <td>Art &amp; Design;Pretend Play</td>\n",
       "      <td>2018-01-15</td>\n",
       "      <td>2.0.0</td>\n",
       "      <td>4.0.3 and up</td>\n",
       "      <td>2018</td>\n",
       "      <td>1</td>\n",
       "    </tr>\n",
       "    <tr>\n",
       "      <th>2</th>\n",
       "      <td>U Launcher Lite – FREE Live Cool Themes, Hide ...</td>\n",
       "      <td>ART_AND_DESIGN</td>\n",
       "      <td>4.7</td>\n",
       "      <td>87510</td>\n",
       "      <td>8.7</td>\n",
       "      <td>5000000</td>\n",
       "      <td>Free</td>\n",
       "      <td>Everyone</td>\n",
       "      <td>Art &amp; Design</td>\n",
       "      <td>2018-08-01</td>\n",
       "      <td>1.2.4</td>\n",
       "      <td>4.0.3 and up</td>\n",
       "      <td>2018</td>\n",
       "      <td>8</td>\n",
       "    </tr>\n",
       "    <tr>\n",
       "      <th>3</th>\n",
       "      <td>Sketch - Draw &amp; Paint</td>\n",
       "      <td>ART_AND_DESIGN</td>\n",
       "      <td>4.5</td>\n",
       "      <td>215644</td>\n",
       "      <td>25.0</td>\n",
       "      <td>50000000</td>\n",
       "      <td>Free</td>\n",
       "      <td>Teen</td>\n",
       "      <td>Art &amp; Design</td>\n",
       "      <td>2018-06-08</td>\n",
       "      <td>Varies with device</td>\n",
       "      <td>4.2 and up</td>\n",
       "      <td>2018</td>\n",
       "      <td>6</td>\n",
       "    </tr>\n",
       "    <tr>\n",
       "      <th>4</th>\n",
       "      <td>Pixel Draw - Number Art Coloring Book</td>\n",
       "      <td>ART_AND_DESIGN</td>\n",
       "      <td>4.3</td>\n",
       "      <td>967</td>\n",
       "      <td>2.8</td>\n",
       "      <td>100000</td>\n",
       "      <td>Free</td>\n",
       "      <td>Everyone</td>\n",
       "      <td>Art &amp; Design;Creativity</td>\n",
       "      <td>2018-06-20</td>\n",
       "      <td>1.1</td>\n",
       "      <td>4.4 and up</td>\n",
       "      <td>2018</td>\n",
       "      <td>6</td>\n",
       "    </tr>\n",
       "  </tbody>\n",
       "</table>\n",
       "</div>"
      ],
      "text/plain": [
       "                                                 App        Category  Rating  \\\n",
       "0     Photo Editor & Candy Camera & Grid & ScrapBook  ART_AND_DESIGN     4.1   \n",
       "1                                Coloring book moana  ART_AND_DESIGN     3.9   \n",
       "2  U Launcher Lite – FREE Live Cool Themes, Hide ...  ART_AND_DESIGN     4.7   \n",
       "3                              Sketch - Draw & Paint  ART_AND_DESIGN     4.5   \n",
       "4              Pixel Draw - Number Art Coloring Book  ART_AND_DESIGN     4.3   \n",
       "\n",
       "   Reviews  Size  Installs  Type Content Rating                     Genres  \\\n",
       "0      159  19.0     10000  Free       Everyone               Art & Design   \n",
       "1      967  14.0    500000  Free       Everyone  Art & Design;Pretend Play   \n",
       "2    87510   8.7   5000000  Free       Everyone               Art & Design   \n",
       "3   215644  25.0  50000000  Free           Teen               Art & Design   \n",
       "4      967   2.8    100000  Free       Everyone    Art & Design;Creativity   \n",
       "\n",
       "  Last Updated         Current Ver   Android Ver  Year_Last_Updated  \\\n",
       "0   2018-01-07               1.0.0  4.0.3 and up               2018   \n",
       "1   2018-01-15               2.0.0  4.0.3 and up               2018   \n",
       "2   2018-08-01               1.2.4  4.0.3 and up               2018   \n",
       "3   2018-06-08  Varies with device    4.2 and up               2018   \n",
       "4   2018-06-20                 1.1    4.4 and up               2018   \n",
       "\n",
       "   Month_Last_Updated  \n",
       "0                   1  \n",
       "1                   1  \n",
       "2                   8  \n",
       "3                   6  \n",
       "4                   6  "
      ]
     },
     "execution_count": 61,
     "metadata": {},
     "output_type": "execute_result"
    }
   ],
   "source": [
    "df_no_outliers.head()"
   ]
  },
  {
   "cell_type": "markdown",
   "metadata": {},
   "source": [
    "Let's start with the Category"
   ]
  },
  {
   "cell_type": "code",
   "execution_count": 62,
   "metadata": {},
   "outputs": [
    {
     "name": "stdout",
     "output_type": "stream",
     "text": [
      "{'ART_AND_DESIGN': 4.377049180327869, 'AUTO_AND_VEHICLES': 4.194366197183099, 'BEAUTY': 4.2785714285714285, 'BOOKS_AND_REFERENCE': 4.357954545454546, 'BUSINESS': 4.120198675496688, 'COMICS': 4.155172413793103, 'COMMUNICATION': 4.133454545454546, 'DATING': 3.9707692307692306, 'EDUCATION': 4.3806666666666665, 'ENTERTAINMENT': 4.116083916083916, 'EVENTS': 4.435555555555555, 'FAMILY': 4.1794730392156865, 'FINANCE': 4.128526645768025, 'FOOD_AND_DRINK': 4.1669724770642205, 'GAME': 4.258683314415437, 'HEALTH_AND_FITNESS': 4.277508650519032, 'HOUSE_AND_HOME': 4.197368421052632, 'LIBRARIES_AND_DEMO': 4.170967741935484, 'LIFESTYLE': 4.104501607717042, 'MAPS_AND_NAVIGATION': 4.04, 'MEDICAL': 4.187861271676301, 'NEWS_AND_MAGAZINES': 4.130493273542601, 'PARENTING': 4.283333333333333, 'PERSONALIZATION': 4.330232558139535, 'PHOTOGRAPHY': 4.181456953642384, 'PRODUCTIVITY': 4.2003003003003005, 'SHOPPING': 4.249333333333333, 'SOCIAL': 4.256896551724138, 'SPORTS': 4.216612377850163, 'TOOLS': 4.034507042253521, 'TRAVEL_AND_LOCAL': 4.105882352941176, 'VIDEO_PLAYERS': 4.040666666666667, 'WEATHER': 4.2405405405405405}\n"
     ]
    }
   ],
   "source": [
    "mean_per_cat = df_no_outliers.groupby('Category')['Rating'].mean().to_dict()\n",
    "print(mean_per_cat)"
   ]
  },
  {
   "cell_type": "code",
   "execution_count": 63,
   "metadata": {},
   "outputs": [],
   "source": [
    "df_no_outliers['Category'] = df_no_outliers['Category'].map(mean_per_cat)"
   ]
  },
  {
   "cell_type": "markdown",
   "metadata": {},
   "source": [
    "Unlike Category, Content Rating values actually has an order. Because you now that everyone can go to a 'Everyone' movie, but not to an 'Mature +17' one. So we are going to give them number in term of the amount of people that can go to see them."
   ]
  },
  {
   "cell_type": "code",
   "execution_count": 64,
   "metadata": {},
   "outputs": [
    {
     "name": "stdout",
     "output_type": "stream",
     "text": [
      "['Everyone' 'Teen' 'Everyone 10+' 'Mature 17+' 'Adults only 18+' 'Unrated']\n"
     ]
    }
   ],
   "source": [
    "dict_contect = {}\n",
    "print(df_no_outliers['Content Rating'].unique())"
   ]
  },
  {
   "cell_type": "code",
   "execution_count": 65,
   "metadata": {},
   "outputs": [
    {
     "name": "stdout",
     "output_type": "stream",
     "text": [
      "{'Unrated': 1, 'Everyone': 2, 'Everyone 10+': 3, 'Teen': 4, 'Mature 17+': 5, 'Adults only 18+': 6}\n"
     ]
    }
   ],
   "source": [
    "dict_contect['Unrated'] = 1\n",
    "dict_contect['Everyone'] = 2\n",
    "dict_contect['Everyone 10+'] = 3\n",
    "dict_contect['Teen'] = 4\n",
    "dict_contect['Mature 17+'] = 5\n",
    "dict_contect['Adults only 18+'] = 6\n",
    "print(dict_contect)"
   ]
  },
  {
   "cell_type": "code",
   "execution_count": 66,
   "metadata": {},
   "outputs": [],
   "source": [
    "df_no_outliers['Content Rating'] = df_no_outliers['Content Rating'].map(dict_contect)"
   ]
  },
  {
   "cell_type": "code",
   "execution_count": 67,
   "metadata": {},
   "outputs": [
    {
     "data": {
      "text/html": [
       "<div>\n",
       "<style scoped>\n",
       "    .dataframe tbody tr th:only-of-type {\n",
       "        vertical-align: middle;\n",
       "    }\n",
       "\n",
       "    .dataframe tbody tr th {\n",
       "        vertical-align: top;\n",
       "    }\n",
       "\n",
       "    .dataframe thead th {\n",
       "        text-align: right;\n",
       "    }\n",
       "</style>\n",
       "<table border=\"1\" class=\"dataframe\">\n",
       "  <thead>\n",
       "    <tr style=\"text-align: right;\">\n",
       "      <th></th>\n",
       "      <th>App</th>\n",
       "      <th>Category</th>\n",
       "      <th>Rating</th>\n",
       "      <th>Reviews</th>\n",
       "      <th>Size</th>\n",
       "      <th>Installs</th>\n",
       "      <th>Type</th>\n",
       "      <th>Content Rating</th>\n",
       "      <th>Genres</th>\n",
       "      <th>Last Updated</th>\n",
       "      <th>Current Ver</th>\n",
       "      <th>Android Ver</th>\n",
       "      <th>Year_Last_Updated</th>\n",
       "      <th>Month_Last_Updated</th>\n",
       "    </tr>\n",
       "  </thead>\n",
       "  <tbody>\n",
       "    <tr>\n",
       "      <th>0</th>\n",
       "      <td>Photo Editor &amp; Candy Camera &amp; Grid &amp; ScrapBook</td>\n",
       "      <td>4.377049</td>\n",
       "      <td>4.1</td>\n",
       "      <td>159</td>\n",
       "      <td>19.0</td>\n",
       "      <td>10000</td>\n",
       "      <td>Free</td>\n",
       "      <td>2</td>\n",
       "      <td>Art &amp; Design</td>\n",
       "      <td>2018-01-07</td>\n",
       "      <td>1.0.0</td>\n",
       "      <td>4.0.3 and up</td>\n",
       "      <td>2018</td>\n",
       "      <td>1</td>\n",
       "    </tr>\n",
       "    <tr>\n",
       "      <th>1</th>\n",
       "      <td>Coloring book moana</td>\n",
       "      <td>4.377049</td>\n",
       "      <td>3.9</td>\n",
       "      <td>967</td>\n",
       "      <td>14.0</td>\n",
       "      <td>500000</td>\n",
       "      <td>Free</td>\n",
       "      <td>2</td>\n",
       "      <td>Art &amp; Design;Pretend Play</td>\n",
       "      <td>2018-01-15</td>\n",
       "      <td>2.0.0</td>\n",
       "      <td>4.0.3 and up</td>\n",
       "      <td>2018</td>\n",
       "      <td>1</td>\n",
       "    </tr>\n",
       "    <tr>\n",
       "      <th>2</th>\n",
       "      <td>U Launcher Lite – FREE Live Cool Themes, Hide ...</td>\n",
       "      <td>4.377049</td>\n",
       "      <td>4.7</td>\n",
       "      <td>87510</td>\n",
       "      <td>8.7</td>\n",
       "      <td>5000000</td>\n",
       "      <td>Free</td>\n",
       "      <td>2</td>\n",
       "      <td>Art &amp; Design</td>\n",
       "      <td>2018-08-01</td>\n",
       "      <td>1.2.4</td>\n",
       "      <td>4.0.3 and up</td>\n",
       "      <td>2018</td>\n",
       "      <td>8</td>\n",
       "    </tr>\n",
       "    <tr>\n",
       "      <th>3</th>\n",
       "      <td>Sketch - Draw &amp; Paint</td>\n",
       "      <td>4.377049</td>\n",
       "      <td>4.5</td>\n",
       "      <td>215644</td>\n",
       "      <td>25.0</td>\n",
       "      <td>50000000</td>\n",
       "      <td>Free</td>\n",
       "      <td>4</td>\n",
       "      <td>Art &amp; Design</td>\n",
       "      <td>2018-06-08</td>\n",
       "      <td>Varies with device</td>\n",
       "      <td>4.2 and up</td>\n",
       "      <td>2018</td>\n",
       "      <td>6</td>\n",
       "    </tr>\n",
       "    <tr>\n",
       "      <th>4</th>\n",
       "      <td>Pixel Draw - Number Art Coloring Book</td>\n",
       "      <td>4.377049</td>\n",
       "      <td>4.3</td>\n",
       "      <td>967</td>\n",
       "      <td>2.8</td>\n",
       "      <td>100000</td>\n",
       "      <td>Free</td>\n",
       "      <td>2</td>\n",
       "      <td>Art &amp; Design;Creativity</td>\n",
       "      <td>2018-06-20</td>\n",
       "      <td>1.1</td>\n",
       "      <td>4.4 and up</td>\n",
       "      <td>2018</td>\n",
       "      <td>6</td>\n",
       "    </tr>\n",
       "  </tbody>\n",
       "</table>\n",
       "</div>"
      ],
      "text/plain": [
       "                                                 App  Category  Rating  \\\n",
       "0     Photo Editor & Candy Camera & Grid & ScrapBook  4.377049     4.1   \n",
       "1                                Coloring book moana  4.377049     3.9   \n",
       "2  U Launcher Lite – FREE Live Cool Themes, Hide ...  4.377049     4.7   \n",
       "3                              Sketch - Draw & Paint  4.377049     4.5   \n",
       "4              Pixel Draw - Number Art Coloring Book  4.377049     4.3   \n",
       "\n",
       "   Reviews  Size  Installs  Type  Content Rating                     Genres  \\\n",
       "0      159  19.0     10000  Free               2               Art & Design   \n",
       "1      967  14.0    500000  Free               2  Art & Design;Pretend Play   \n",
       "2    87510   8.7   5000000  Free               2               Art & Design   \n",
       "3   215644  25.0  50000000  Free               4               Art & Design   \n",
       "4      967   2.8    100000  Free               2    Art & Design;Creativity   \n",
       "\n",
       "  Last Updated         Current Ver   Android Ver  Year_Last_Updated  \\\n",
       "0   2018-01-07               1.0.0  4.0.3 and up               2018   \n",
       "1   2018-01-15               2.0.0  4.0.3 and up               2018   \n",
       "2   2018-08-01               1.2.4  4.0.3 and up               2018   \n",
       "3   2018-06-08  Varies with device    4.2 and up               2018   \n",
       "4   2018-06-20                 1.1    4.4 and up               2018   \n",
       "\n",
       "   Month_Last_Updated  \n",
       "0                   1  \n",
       "1                   1  \n",
       "2                   8  \n",
       "3                   6  \n",
       "4                   6  "
      ]
     },
     "execution_count": 67,
     "metadata": {},
     "output_type": "execute_result"
    }
   ],
   "source": [
    "df_no_outliers.head()"
   ]
  },
  {
   "cell_type": "code",
   "execution_count": 68,
   "metadata": {},
   "outputs": [
    {
     "data": {
      "text/plain": [
       "array(['Free', 'Paid'], dtype=object)"
      ]
     },
     "execution_count": 68,
     "metadata": {},
     "output_type": "execute_result"
    }
   ],
   "source": [
    "df_no_outliers['Type'].unique()"
   ]
  },
  {
   "cell_type": "code",
   "execution_count": 69,
   "metadata": {},
   "outputs": [],
   "source": [
    "encoder = LabelEncoder()\n",
    "df_no_outliers['Type'] = encoder.fit_transform(df_no_outliers['Type'])"
   ]
  },
  {
   "cell_type": "markdown",
   "metadata": {},
   "source": [
    "Now we are going to drop all the columns that we think that don't matter for the porpurse of the study. Even when 'everything' could be useful, having extra information that could lead the model to an inaccurate conclusion. Therefore, we are eliminating some columns like Genres, that could seem importante, but we are not sure about it."
   ]
  },
  {
   "cell_type": "code",
   "execution_count": 70,
   "metadata": {},
   "outputs": [],
   "source": [
    "df_no_outliers.drop(['Genres', 'Last Updated', 'Current Ver', 'Android Ver', 'App'], axis = 1, inplace = True)"
   ]
  },
  {
   "cell_type": "code",
   "execution_count": 71,
   "metadata": {},
   "outputs": [
    {
     "data": {
      "text/html": [
       "<div>\n",
       "<style scoped>\n",
       "    .dataframe tbody tr th:only-of-type {\n",
       "        vertical-align: middle;\n",
       "    }\n",
       "\n",
       "    .dataframe tbody tr th {\n",
       "        vertical-align: top;\n",
       "    }\n",
       "\n",
       "    .dataframe thead th {\n",
       "        text-align: right;\n",
       "    }\n",
       "</style>\n",
       "<table border=\"1\" class=\"dataframe\">\n",
       "  <thead>\n",
       "    <tr style=\"text-align: right;\">\n",
       "      <th></th>\n",
       "      <th>Category</th>\n",
       "      <th>Rating</th>\n",
       "      <th>Reviews</th>\n",
       "      <th>Size</th>\n",
       "      <th>Installs</th>\n",
       "      <th>Type</th>\n",
       "      <th>Content Rating</th>\n",
       "      <th>Year_Last_Updated</th>\n",
       "      <th>Month_Last_Updated</th>\n",
       "    </tr>\n",
       "  </thead>\n",
       "  <tbody>\n",
       "    <tr>\n",
       "      <th>0</th>\n",
       "      <td>4.377049</td>\n",
       "      <td>4.1</td>\n",
       "      <td>159</td>\n",
       "      <td>19.0</td>\n",
       "      <td>10000</td>\n",
       "      <td>0</td>\n",
       "      <td>2</td>\n",
       "      <td>2018</td>\n",
       "      <td>1</td>\n",
       "    </tr>\n",
       "    <tr>\n",
       "      <th>1</th>\n",
       "      <td>4.377049</td>\n",
       "      <td>3.9</td>\n",
       "      <td>967</td>\n",
       "      <td>14.0</td>\n",
       "      <td>500000</td>\n",
       "      <td>0</td>\n",
       "      <td>2</td>\n",
       "      <td>2018</td>\n",
       "      <td>1</td>\n",
       "    </tr>\n",
       "    <tr>\n",
       "      <th>2</th>\n",
       "      <td>4.377049</td>\n",
       "      <td>4.7</td>\n",
       "      <td>87510</td>\n",
       "      <td>8.7</td>\n",
       "      <td>5000000</td>\n",
       "      <td>0</td>\n",
       "      <td>2</td>\n",
       "      <td>2018</td>\n",
       "      <td>8</td>\n",
       "    </tr>\n",
       "    <tr>\n",
       "      <th>3</th>\n",
       "      <td>4.377049</td>\n",
       "      <td>4.5</td>\n",
       "      <td>215644</td>\n",
       "      <td>25.0</td>\n",
       "      <td>50000000</td>\n",
       "      <td>0</td>\n",
       "      <td>4</td>\n",
       "      <td>2018</td>\n",
       "      <td>6</td>\n",
       "    </tr>\n",
       "    <tr>\n",
       "      <th>4</th>\n",
       "      <td>4.377049</td>\n",
       "      <td>4.3</td>\n",
       "      <td>967</td>\n",
       "      <td>2.8</td>\n",
       "      <td>100000</td>\n",
       "      <td>0</td>\n",
       "      <td>2</td>\n",
       "      <td>2018</td>\n",
       "      <td>6</td>\n",
       "    </tr>\n",
       "  </tbody>\n",
       "</table>\n",
       "</div>"
      ],
      "text/plain": [
       "   Category  Rating  Reviews  Size  Installs  Type  Content Rating  \\\n",
       "0  4.377049     4.1      159  19.0     10000     0               2   \n",
       "1  4.377049     3.9      967  14.0    500000     0               2   \n",
       "2  4.377049     4.7    87510   8.7   5000000     0               2   \n",
       "3  4.377049     4.5   215644  25.0  50000000     0               4   \n",
       "4  4.377049     4.3      967   2.8    100000     0               2   \n",
       "\n",
       "   Year_Last_Updated  Month_Last_Updated  \n",
       "0               2018                   1  \n",
       "1               2018                   1  \n",
       "2               2018                   8  \n",
       "3               2018                   6  \n",
       "4               2018                   6  "
      ]
     },
     "execution_count": 71,
     "metadata": {},
     "output_type": "execute_result"
    }
   ],
   "source": [
    "df_no_outliers.head()"
   ]
  },
  {
   "cell_type": "markdown",
   "metadata": {},
   "source": [
    "Finally, we want to check "
   ]
  },
  {
   "cell_type": "markdown",
   "metadata": {},
   "source": [
    "## 6) Model Prediction"
   ]
  },
  {
   "cell_type": "markdown",
   "metadata": {},
   "source": [
    "### 6.1.1) Logistict Regression Model\n",
    "Since the objective of this file is to preduct using random forecast, we actually want to work with the logistict regresion model. Therefore, we need to change the objective variable from floats to ints."
   ]
  },
  {
   "cell_type": "code",
   "execution_count": 72,
   "metadata": {},
   "outputs": [],
   "source": [
    "x = df_no_outliers.drop('Rating', axis= 1)\n",
    "y = df_no_outliers['Rating'].round().astype(int)\n",
    "\n",
    "x_train, x_test, y_train, y_test = train_test_split(x, y, test_size = 0.2, random_state = 21)"
   ]
  },
  {
   "cell_type": "code",
   "execution_count": 73,
   "metadata": {},
   "outputs": [
    {
     "name": "stderr",
     "output_type": "stream",
     "text": [
      "c:\\Users\\user\\AppData\\Local\\Programs\\Python\\Python310\\lib\\site-packages\\sklearn\\linear_model\\_logistic.py:458: ConvergenceWarning: lbfgs failed to converge (status=1):\n",
      "STOP: TOTAL NO. of ITERATIONS REACHED LIMIT.\n",
      "\n",
      "Increase the number of iterations (max_iter) or scale the data as shown in:\n",
      "    https://scikit-learn.org/stable/modules/preprocessing.html\n",
      "Please also refer to the documentation for alternative solver options:\n",
      "    https://scikit-learn.org/stable/modules/linear_model.html#logistic-regression\n",
      "  n_iter_i = _check_optimize_result(\n"
     ]
    }
   ],
   "source": [
    "model_logistic = LogisticRegression()\n",
    "model_logistic.fit(x_train, y_train)\n",
    "y_pred = model_logistic.predict(x_test)"
   ]
  },
  {
   "cell_type": "markdown",
   "metadata": {},
   "source": [
    "Now we calculate the accuracy and the confusion matrix, the 2 main indicators of the model."
   ]
  },
  {
   "cell_type": "code",
   "execution_count": 74,
   "metadata": {},
   "outputs": [
    {
     "name": "stdout",
     "output_type": "stream",
     "text": [
      "Accuracy Score: 0.6939704209328783\n",
      "Confusion Matrix:\n",
      "[[   0    0    0    4    0]\n",
      " [   0    0    0   33    0]\n",
      " [   0    0    0  109    0]\n",
      " [   0    0    0 1218    9]\n",
      " [   0    0    0  383    2]]\n"
     ]
    }
   ],
   "source": [
    "# Calculate Accuracy Score\n",
    "accuracy = accuracy_score(y_test, y_pred)\n",
    "print(\"Accuracy Score:\", accuracy)\n",
    "\n",
    "# Calculate the Confusion Matrix\n",
    "confusion = confusion_matrix(y_test, y_pred)\n",
    "print(\"Confusion Matrix:\")\n",
    "print(confusion)"
   ]
  },
  {
   "cell_type": "markdown",
   "metadata": {},
   "source": [
    "Then we are calculating another indicatores that also can help to understand the values."
   ]
  },
  {
   "cell_type": "code",
   "execution_count": 75,
   "metadata": {},
   "outputs": [
    {
     "name": "stderr",
     "output_type": "stream",
     "text": [
      "c:\\Users\\user\\AppData\\Local\\Programs\\Python\\Python310\\lib\\site-packages\\sklearn\\metrics\\_classification.py:1344: UndefinedMetricWarning: Precision is ill-defined and being set to 0.0 due to no predicted samples. Use `zero_division` parameter to control this behavior.\n",
      "  _warn_prf(average, modifier, msg_start, len(result))\n",
      "c:\\Users\\user\\AppData\\Local\\Programs\\Python\\Python310\\lib\\site-packages\\sklearn\\metrics\\_classification.py:1344: UndefinedMetricWarning: Precision is ill-defined and being set to 0.0 due to no predicted samples. Use `zero_division` parameter to control this behavior.\n",
      "  _warn_prf(average, modifier, msg_start, len(result))\n",
      "c:\\Users\\user\\AppData\\Local\\Programs\\Python\\Python310\\lib\\site-packages\\sklearn\\metrics\\_classification.py:1344: UndefinedMetricWarning: Precision is ill-defined and being set to 0.0 due to no predicted samples. Use `zero_division` parameter to control this behavior.\n",
      "  _warn_prf(average, modifier, msg_start, len(result))\n"
     ]
    },
    {
     "data": {
      "image/png": "[encoded data removed]",
      "text/plain": [
       "<Figure size 800x500 with 2 Axes>"
      ]
     },
     "metadata": {},
     "output_type": "display_data"
    }
   ],
   "source": [
    "\n",
    "num_classes = len(y.unique())  # Number of possible classes\n",
    "\n",
    "precision_scores = []\n",
    "recall_scores = []\n",
    "f1_scores = []\n",
    "\n",
    "class_labels = []\n",
    "class_label = 1\n",
    "\n",
    "while class_label <= num_classes:\n",
    "    # Create a mask for the current class\n",
    "    y_pred_class = (y_pred == class_label)\n",
    "    y_test_class = (y_test == class_label)\n",
    "\n",
    "    # Calculate precision, recall, and F1 score for the class\n",
    "    precision = precision_score(y_test_class, y_pred_class, average='binary')\n",
    "    recall = recall_score(y_test_class, y_pred_class, average='binary')\n",
    "    f1 = f1_score(y_test_class, y_pred_class, average='binary')\n",
    "\n",
    "    # Append the scores to the respective lists\n",
    "    precision_scores.append(precision)\n",
    "    recall_scores.append(recall)\n",
    "    f1_scores.append(f1)\n",
    "\n",
    "    class_labels.append(class_label)\n",
    "    class_label+=1\n",
    "\n",
    "# Create a 3x6 matrix to store the results\n",
    "results_matrix = np.array([precision_scores, recall_scores, f1_scores])\n",
    "\n",
    "# Print or use the results as needed\n",
    "plt.figure(figsize=(8, 5))\n",
    "sns.set(font_scale=1.2)  # Adjust font size if needed\n",
    "ax = sns.heatmap(results_matrix, annot=True, fmt='.2f', cmap='coolwarm', xticklabels=class_labels,\n",
    "                 yticklabels=['Precision', 'Recall', 'F1 Score'])\n",
    "plt.xlabel('Predicted Class')\n",
    "plt.ylabel('Metric')\n",
    "plt.title('Precision, Recall, and F1 Score for Each Class')\n",
    "plt.show()"
   ]
  },
  {
   "cell_type": "markdown",
   "metadata": {},
   "source": [
    "WHY DO WE USE 'BINARY? if this is not a binary model? It is because, since we are adding 1 by 1 the values using the \"for\" loop, what we are doing is evaluating the performance of a classifier for a specific class against the rest. "
   ]
  },
  {
   "cell_type": "markdown",
   "metadata": {},
   "source": [
    "Now let's optimize the parameters of the model."
   ]
  },
  {
   "cell_type": "markdown",
   "metadata": {},
   "source": [
    "### 6.1.2) Optimizing logistic regresion parameters"
   ]
  },
  {
   "cell_type": "markdown",
   "metadata": {},
   "source": [
    "In order to find the best parámeters we need to understand what kind of parameters we are going to look for. If we take a close look in the parameters that the logistic regresion uses, there a a lot of them. In this case we are going to focus on 2 of them\n",
    "1) C: its default value is 1.0 (float), so we are tryng to find the correct magnitude\n",
    "2) penalty: default value is l2, but we also want to understand if it could be l1, or elasticnet too."
   ]
  },
  {
   "cell_type": "code",
   "execution_count": 76,
   "metadata": {},
   "outputs": [],
   "source": [
    "logistic_class = LogisticRegression()\n",
    "para_grid = {'C': 10.0 ** np.arange(-2, 3), 'penalty': ['none', 'l2'], 'solver': ['lbfgs', 'newton-cg']}"
   ]
  },
  {
   "cell_type": "markdown",
   "metadata": {},
   "source": [
    "We are going to create the GridSearchCV now to find the better parameters within the options that we decide in the para_grid dictionary.\n",
    "We are generating only 5 layers of cross validation (cv = 5)\n",
    "we are using all the CPU cores available.\n",
    "we are train the focus the best parameters for accuracy"
   ]
  },
  {
   "cell_type": "code",
   "execution_count": 77,
   "metadata": {},
   "outputs": [],
   "source": [
    "best_logistic_2_= GridSearchCV(estimator = logistic_class, param_grid=para_grid, cv= 5, n_jobs=-1, scoring= 'f1_macro')"
   ]
  },
  {
   "cell_type": "code",
   "execution_count": 78,
   "metadata": {},
   "outputs": [
    {
     "name": "stdout",
     "output_type": "stream",
     "text": [
      "Best estimator: LogisticRegression(C=10.0)\n",
      "Best Parameters: {'C': 10.0, 'penalty': 'l2', 'solver': 'lbfgs'}\n"
     ]
    },
    {
     "name": "stderr",
     "output_type": "stream",
     "text": [
      "c:\\Users\\user\\AppData\\Local\\Programs\\Python\\Python310\\lib\\site-packages\\sklearn\\linear_model\\_logistic.py:458: ConvergenceWarning: lbfgs failed to converge (status=1):\n",
      "STOP: TOTAL NO. of ITERATIONS REACHED LIMIT.\n",
      "\n",
      "Increase the number of iterations (max_iter) or scale the data as shown in:\n",
      "    https://scikit-learn.org/stable/modules/preprocessing.html\n",
      "Please also refer to the documentation for alternative solver options:\n",
      "    https://scikit-learn.org/stable/modules/linear_model.html#logistic-regression\n",
      "  n_iter_i = _check_optimize_result(\n"
     ]
    }
   ],
   "source": [
    "best_logistic_2_.fit(x_train, y_train)\n",
    "print(f'Best estimator: ' + str(best_logistic_2_.best_estimator_))\n",
    "print(f'Best Parameters: ' + str(best_logistic_2_.best_params_))"
   ]
  },
  {
   "cell_type": "code",
   "execution_count": 79,
   "metadata": {},
   "outputs": [
    {
     "name": "stdout",
     "output_type": "stream",
     "text": [
      "0.6979522184300341\n"
     ]
    },
    {
     "name": "stderr",
     "output_type": "stream",
     "text": [
      "c:\\Users\\user\\AppData\\Local\\Programs\\Python\\Python310\\lib\\site-packages\\sklearn\\linear_model\\_logistic.py:458: ConvergenceWarning: lbfgs failed to converge (status=1):\n",
      "STOP: TOTAL NO. of ITERATIONS REACHED LIMIT.\n",
      "\n",
      "Increase the number of iterations (max_iter) or scale the data as shown in:\n",
      "    https://scikit-learn.org/stable/modules/preprocessing.html\n",
      "Please also refer to the documentation for alternative solver options:\n",
      "    https://scikit-learn.org/stable/modules/linear_model.html#logistic-regression\n",
      "  n_iter_i = _check_optimize_result(\n"
     ]
    }
   ],
   "source": [
    "optimized_logistic = LogisticRegression(C = 10.0 ,  penalty='l2', solver = 'lbfgs')\n",
    "optimized_logistic.fit(x_train, y_train)\n",
    "y_pred_opt_log = optimized_logistic.predict(x_test)\n",
    "print(accuracy_score(y_test, y_pred_opt_log))"
   ]
  },
  {
   "cell_type": "markdown",
   "metadata": {},
   "source": [
    "By changing the C value from 1 to 10, we can increase the accuracy from 69.4% to 69.8%, which is actually not that big of an improvement. However, we can see the effect of modifying the parameters of the regression."
   ]
  },
  {
   "cell_type": "markdown",
   "metadata": {},
   "source": [
    "### 6.2.1) Using Random Forest  to increase the accuracy"
   ]
  },
  {
   "cell_type": "code",
   "execution_count": 80,
   "metadata": {},
   "outputs": [
    {
     "name": "stdout",
     "output_type": "stream",
     "text": [
      "Accuracy Score: 0.7406143344709898\n",
      "Confusion Matrix:\n",
      "[[   0    0    0    2    2]\n",
      " [   0    1    2   22    8]\n",
      " [   0    0    5   95    9]\n",
      " [   0    0    8 1164   55]\n",
      " [   0    0    1  252  132]]\n"
     ]
    }
   ],
   "source": [
    "forest = RandomForestClassifier()\n",
    "forest.fit(x_train, y_train)\n",
    "y_pred_forest = forest.predict(x_test)\n",
    "\n",
    "# Calculate Accuracy Score\n",
    "accuracy_forest = accuracy_score(y_test, y_pred_forest)\n",
    "print(\"Accuracy Score:\", accuracy_forest)\n",
    "\n",
    "# Calculate the Confusion Matrix\n",
    "confusion_forest = confusion_matrix(y_test, y_pred_forest)\n",
    "print(\"Confusion Matrix:\")\n",
    "print(confusion_forest)"
   ]
  },
  {
   "cell_type": "markdown",
   "metadata": {},
   "source": [
    "As we can see, the accuracy score improved using random forest against logistic regression, from 69.4% to 74.1%"
   ]
  },
  {
   "cell_type": "markdown",
   "metadata": {},
   "source": [
    "### 6.2.2) Optimizing the forest's parameters"
   ]
  },
  {
   "cell_type": "code",
   "execution_count": 81,
   "metadata": {},
   "outputs": [],
   "source": [
    "forest_class = RandomForestClassifier()\n",
    "n_estimators = [int(x) for x in np.linspace(0,2000,10)] #Choose 10 values between  0 and 2000\n",
    "max_features = [\"auto\", \"sqrt\", \"log2\"] #The default value is auto, so we want to try the other 2 optiones.\n",
    "max_depth = [int(x) for x in np.linspace(0,2000,10)] #Choose 10 values between  0 and 2000\n",
    "min_sample_leaf = [1,2,3,4,5,6] #Possible number of samples needed in each leaf core\n",
    "min_samples_split = [2,5,8,10,12] #Min number of sample that are required\n",
    "criterio = ['entropy', 'gini'] #Default is gini, but we want to try the other option"
   ]
  },
  {
   "cell_type": "code",
   "execution_count": 82,
   "metadata": {},
   "outputs": [],
   "source": [
    "para_grid_random = {\n",
    "    'n_estimators': n_estimators,\n",
    "    'max_features': max_features,\n",
    "    'max_depth': max_depth,\n",
    "    'min_samples_leaf': min_sample_leaf,\n",
    "    'min_samples_split': min_samples_split,\n",
    "    'criterion': criterio\n",
    "}"
   ]
  },
  {
   "cell_type": "code",
   "execution_count": 85,
   "metadata": {},
   "outputs": [
    {
     "name": "stdout",
     "output_type": "stream",
     "text": [
      "Fitting 4 folds for each of 20 candidates, totalling 80 fits\n"
     ]
    },
    {
     "name": "stderr",
     "output_type": "stream",
     "text": [
      "c:\\Users\\user\\AppData\\Local\\Programs\\Python\\Python310\\lib\\site-packages\\sklearn\\model_selection\\_validation.py:378: FitFailedWarning: \n",
      "12 fits failed out of a total of 80.\n",
      "The score on these train-test partitions for these parameters will be set to nan.\n",
      "If these failures are not expected, you can try to debug them by setting error_score='raise'.\n",
      "\n",
      "Below are more details about the failures:\n",
      "--------------------------------------------------------------------------------\n",
      "4 fits failed with the following error:\n",
      "Traceback (most recent call last):\n",
      "  File \"c:\\Users\\user\\AppData\\Local\\Programs\\Python\\Python310\\lib\\site-packages\\sklearn\\model_selection\\_validation.py\", line 686, in _fit_and_score\n",
      "    estimator.fit(X_train, y_train, **fit_params)\n",
      "  File \"c:\\Users\\user\\AppData\\Local\\Programs\\Python\\Python310\\lib\\site-packages\\sklearn\\ensemble\\_forest.py\", line 341, in fit\n",
      "    self._validate_params()\n",
      "  File \"c:\\Users\\user\\AppData\\Local\\Programs\\Python\\Python310\\lib\\site-packages\\sklearn\\base.py\", line 570, in _validate_params\n",
      "    validate_parameter_constraints(\n",
      "  File \"c:\\Users\\user\\AppData\\Local\\Programs\\Python\\Python310\\lib\\site-packages\\sklearn\\utils\\_param_validation.py\", line 97, in validate_parameter_constraints\n",
      "    raise InvalidParameterError(\n",
      "sklearn.utils._param_validation.InvalidParameterError: The 'max_depth' parameter of RandomForestClassifier must be an int in the range [1, inf) or None. Got 0 instead.\n",
      "\n",
      "--------------------------------------------------------------------------------\n",
      "8 fits failed with the following error:\n",
      "Traceback (most recent call last):\n",
      "  File \"c:\\Users\\user\\AppData\\Local\\Programs\\Python\\Python310\\lib\\site-packages\\sklearn\\model_selection\\_validation.py\", line 686, in _fit_and_score\n",
      "    estimator.fit(X_train, y_train, **fit_params)\n",
      "  File \"c:\\Users\\user\\AppData\\Local\\Programs\\Python\\Python310\\lib\\site-packages\\sklearn\\ensemble\\_forest.py\", line 341, in fit\n",
      "    self._validate_params()\n",
      "  File \"c:\\Users\\user\\AppData\\Local\\Programs\\Python\\Python310\\lib\\site-packages\\sklearn\\base.py\", line 570, in _validate_params\n",
      "    validate_parameter_constraints(\n",
      "  File \"c:\\Users\\user\\AppData\\Local\\Programs\\Python\\Python310\\lib\\site-packages\\sklearn\\utils\\_param_validation.py\", line 97, in validate_parameter_constraints\n",
      "    raise InvalidParameterError(\n",
      "sklearn.utils._param_validation.InvalidParameterError: The 'n_estimators' parameter of RandomForestClassifier must be an int in the range [1, inf). Got 0 instead.\n",
      "\n",
      "  warnings.warn(some_fits_failed_message, FitFailedWarning)\n",
      "c:\\Users\\user\\AppData\\Local\\Programs\\Python\\Python310\\lib\\site-packages\\sklearn\\model_selection\\_search.py:953: UserWarning: One or more of the test scores are non-finite: [0.75351948 0.74712    0.7435641  0.74527099 0.74399032        nan\n",
      " 0.74285258        nan 0.74768843 0.74811561 0.74527066 0.74882608\n",
      " 0.75451526 0.74854159 0.75138646 0.7424262         nan 0.75309294\n",
      " 0.74214179 0.7511014 ]\n",
      "  warnings.warn(\n"
     ]
    },
    {
     "name": "stdout",
     "output_type": "stream",
     "text": [
      "Best estimator: RandomForestClassifier(max_depth=1555, min_samples_split=5, n_estimators=666)\n",
      "Best Parameters: {'n_estimators': 666, 'min_samples_split': 5, 'min_samples_leaf': 1, 'max_features': 'sqrt', 'max_depth': 1555, 'criterion': 'gini'}\n"
     ]
    }
   ],
   "source": [
    "best_forest_2 = RandomizedSearchCV(estimator = forest_class, param_distributions = para_grid_random, n_iter = 20, cv = 4, verbose = 2, random_state = 21, n_jobs = -1)\n",
    "best_forest_2.fit(x_train, y_train)\n",
    "print(f'Best estimator: ' + str(best_forest_2.best_estimator_))\n",
    "print(f'Best Parameters: ' + str(best_forest_2.best_params_))"
   ]
  },
  {
   "cell_type": "code",
   "execution_count": 86,
   "metadata": {},
   "outputs": [
    {
     "name": "stdout",
     "output_type": "stream",
     "text": [
      "0.7417519908987485\n"
     ]
    }
   ],
   "source": [
    "optimized_forest = RandomForestClassifier(n_estimators= 666, min_samples_split = 5, min_samples_leaf = 1, max_features = 'sqrt', max_depth = 1555, criterion = 'gini')\n",
    "optimized_forest.fit(x_train, y_train)\n",
    "y_pred_opt_forest = optimized_forest.predict(x_test)\n",
    "print(accuracy_score(y_test, y_pred_opt_forest))"
   ]
  },
  {
   "cell_type": "markdown",
   "metadata": {},
   "source": [
    "By optimizing the parameters, we increased the accuracy from 74.1% to 74.2%. Again, it is not a really huge improvement, but in another cases, this same technic could be really helpful."
   ]
  }
 ],
 "metadata": {
  "kernelspec": {
   "display_name": "base",
   "language": "python",
   "name": "python3"
  },
  "language_info": {
   "codemirror_mode": {
    "name": "ipython",
    "version": 3
   },
   "file_extension": ".py",
   "mimetype": "text/x-python",
   "name": "python",
   "nbconvert_exporter": "python",
   "pygments_lexer": "ipython3",
   "version": "3.10.9"
  },
  "orig_nbformat": 4
 },
 "nbformat": 4,
 "nbformat_minor": 2
}
